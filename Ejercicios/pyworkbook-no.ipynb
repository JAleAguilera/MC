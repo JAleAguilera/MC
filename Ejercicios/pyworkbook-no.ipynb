{
 "metadata": {
  "name": ""
 },
 "nbformat": 3,
 "nbformat_minor": 0,
 "worksheets": [
  {
   "cells": [
    {
     "cell_type": "code",
     "collapsed": false,
     "input": [
      "import numpy as np\n",
      "import math as mt\n",
      "from math import log10"
     ],
     "language": "python",
     "metadata": {},
     "outputs": [],
     "prompt_number": 2
    },
    {
     "cell_type": "code",
     "collapsed": false,
     "input": [
      "#Ejercicio 10 \n",
      "a=int(raw_input(\"a=\"))\n",
      "b=int(raw_input(\"b=\"))\n",
      "print \"a+b =\", a + b\n",
      "print \"a-b =\", a - b\n",
      "print \"a*b =\", a * b\n",
      "print \"a/b =\", a / b\n",
      "print \"a%b =\", a % b\n",
      "print \"log_10(a) =\",log10(float(a))\n",
      "print \"a^b =\", a ** b"
     ],
     "language": "python",
     "metadata": {},
     "outputs": [],
     "prompt_number": "*"
    },
    {
     "cell_type": "code",
     "collapsed": false,
     "input": [
      "#Ejercicio 50\n",
      "\n",
      "a=float(raw_input(\"a=\"))\n",
      "b=float(raw_input(\"b=\"))\n",
      "c=float(raw_input(\"c=\"))\n",
      "\n",
      "\n",
      "d= b**2 - 4*a*c\n",
      "if d>0:\n",
      "\tprint \"El polinomio tiene dos ra\u00edces:\"\n",
      "\tprint \"Raiz1 =\", (-b + sqrt(d))/2./a\n",
      "\tprint \"Raiz2 =\", (-b - sqrt(d))/2./a\n",
      "elif d==0:\n",
      "\tprint \"Una sola ra\u00edz que anula la funci\u00f3n dos veces:\"\n",
      "\tprint \"Raiz =\", -b/2./a\n",
      "else:\n",
      "\tprint \"No tiene ra\u00edces reales.\""
     ],
     "language": "python",
     "metadata": {},
     "outputs": [],
     "prompt_number": "*"
    },
    {
     "cell_type": "code",
     "collapsed": false,
     "input": [
      "#Ejercicio 63\n",
      "for i in range(10):\n",
      "\tc=10*i\n",
      "\tf=1.8*c + 32"
     ],
     "language": "python",
     "metadata": {},
     "outputs": [],
     "prompt_number": "*"
    },
    {
     "cell_type": "code",
     "collapsed": false,
     "input": [
      "#Ejercicio 127\n",
      "limite=10000\n",
      "a=range(limite)\n",
      "a[1]=0\n",
      "b=2\n",
      "while p<limite:\n",
      "\tfor i in range(2*b,limit,b):\n",
      "\t\ta[i]=0\n",
      "\tp+=1\n",
      "for i in a:\n",
      "\tif i!=0:\n",
      "\t\tprint i,"
     ],
     "language": "python",
     "metadata": {},
     "outputs": [],
     "prompt_number": "*"
    },
    {
     "cell_type": "code",
     "collapsed": false,
     "input": [],
     "language": "python",
     "metadata": {},
     "outputs": []
    }
   ],
   "metadata": {}
  }
 ]
}