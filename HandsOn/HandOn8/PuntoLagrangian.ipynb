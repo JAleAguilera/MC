{
 "metadata": {
  "name": ""
 },
 "nbformat": 3,
 "nbformat_minor": 0,
 "worksheets": [
  {
   "cells": [
    {
     "cell_type": "code",
     "collapsed": false,
     "input": [
      "%pylab inline\n",
      "import numpy as np\n",
      "import matplotlib.pyplot as plt\n",
      "import scipy as sp\n",
      "from scipy import optimize"
     ],
     "language": "python",
     "metadata": {},
     "outputs": [
      {
       "output_type": "stream",
       "stream": "stdout",
       "text": [
        "Populating the interactive namespace from numpy and matplotlib\n"
       ]
      }
     ],
     "prompt_number": 17
    },
    {
     "cell_type": "code",
     "collapsed": false,
     "input": [
      "R=421.600\n",
      "M2=8.94E22\n",
      "M1=1.898E27\n",
      "\n",
      "def fun(x):\n",
      "    return x**2-4"
     ],
     "language": "python",
     "metadata": {},
     "outputs": [],
     "prompt_number": 37
    },
    {
     "cell_type": "code",
     "collapsed": false,
     "input": [
      "a = optimize.root(fun,(0,-1))"
     ],
     "language": "python",
     "metadata": {},
     "outputs": [],
     "prompt_number": 40
    },
    {
     "cell_type": "code",
     "collapsed": false,
     "input": [
      "print a"
     ],
     "language": "python",
     "metadata": {},
     "outputs": [
      {
       "output_type": "stream",
       "stream": "stdout",
       "text": [
        "  status: 1\n",
        " success: True\n",
        "     qtf: array([  1.05161213e-10,   1.59880755e-14])\n",
        "    nfev: 18\n",
        "       r: array([-4.00000462, -0.22496493,  4.00141664])\n",
        "     fun: array([ 0.,  0.])\n",
        "       x: array([ 2., -2.])\n",
        " message: 'The solution converged.'\n",
        "    fjac: array([[ -1.00000000e+00,   8.21553208e-09],\n",
        "       [ -8.21553208e-09,  -1.00000000e+00]])\n"
       ]
      }
     ],
     "prompt_number": 41
    },
    {
     "cell_type": "code",
     "collapsed": false,
     "input": [],
     "language": "python",
     "metadata": {},
     "outputs": []
    }
   ],
   "metadata": {}
  }
 ]
}