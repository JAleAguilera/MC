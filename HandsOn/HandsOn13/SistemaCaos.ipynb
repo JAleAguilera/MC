{
 "metadata": {
  "name": ""
 },
 "nbformat": 3,
 "nbformat_minor": 0,
 "worksheets": [
  {
   "cells": [
    {
     "cell_type": "code",
     "collapsed": false,
     "input": [
      "%pylab inline\n",
      "import numpy as np\n",
      "import scipy as sp\n",
      "import matplotlib.pylab as plt\n",
      "from scipy.integrate import odeint\n",
      "from scipy.integrate import ode\n",
      "from mpl_toolkits.mplot3d import Axes3D"
     ],
     "language": "python",
     "metadata": {},
     "outputs": [
      {
       "output_type": "stream",
       "stream": "stdout",
       "text": [
        "Populating the interactive namespace from numpy and matplotlib\n"
       ]
      },
      {
       "output_type": "stream",
       "stream": "stderr",
       "text": [
        "WARNING: pylab import has clobbered these variables: ['plt']\n",
        "`%pylab --no-import-all` prevents importing * from pylab and numpy\n"
       ]
      }
     ],
     "prompt_number": 27
    },
    {
     "cell_type": "code",
     "collapsed": false,
     "input": [
      "#Defino constantes\n",
      "a=0.1\n",
      "b=0.1\n",
      "c=14\n",
      "\n",
      "t=np.linspace(0.,1.,600.)\n",
      "print len(t)"
     ],
     "language": "python",
     "metadata": {},
     "outputs": [
      {
       "output_type": "stream",
       "stream": "stdout",
       "text": [
        "600\n"
       ]
      }
     ],
     "prompt_number": 60
    },
    {
     "cell_type": "code",
     "collapsed": false,
     "input": [
      "#Resulevo las ecuaciones diferenciales con la herramiento ODEINT\n",
      "#Defino las funciones\n",
      "\n",
      "def fun(Y,t):\n",
      "    global a\n",
      "    global b\n",
      "    global c\n",
      "    return np.array([Y[1]-Y[2],Y[0]+a*Y[1],b+Y[2]*(Y[0]-c)])"
     ],
     "language": "python",
     "metadata": {},
     "outputs": [],
     "prompt_number": 61
    },
    {
     "cell_type": "code",
     "collapsed": false,
     "input": [
      "solucion=odeint(fun,[1.,0.,1.],t)\n",
      "print solucion"
     ],
     "language": "python",
     "metadata": {},
     "outputs": [
      {
       "output_type": "stream",
       "stream": "stdout",
       "text": [
        "[[ 1.          0.          1.        ]\n",
        " [ 0.99834979  0.00166821  0.97869475]\n",
        " [ 0.99673756  0.00333397  0.95784438]\n",
        " ..., \n",
        " [ 1.4366172   1.14159821  0.00791173]\n",
        " [ 1.43851199  1.14418895  0.00791274]\n",
        " [ 1.44041111  1.14678329  0.00791375]]\n"
       ]
      }
     ],
     "prompt_number": 62
    },
    {
     "cell_type": "code",
     "collapsed": false,
     "input": [
      "#Gr\u00e1fica\n",
      "plt.figure(figsize=(10,10))\n",
      "plt.subplot(1,1,1)\n",
      "plt.plot(solucion[:,:],solucion[:,:])\n",
      "plt.plot(solucion[:,:][0],solucion[:,:][0])\n",
      "plt.show()"
     ],
     "language": "python",
     "metadata": {},
     "outputs": [
      {
       "metadata": {},
       "output_type": "display_data",
       "png": "[encoded data removed]",
       "text": [
        "<matplotlib.figure.Figure at 0xb112ec2c>"
       ]
      }
     ],
     "prompt_number": 65
    },
    {
     "cell_type": "code",
     "collapsed": false,
     "input": [],
     "language": "python",
     "metadata": {},
     "outputs": []
    }
   ],
   "metadata": {}
  }
 ]
}