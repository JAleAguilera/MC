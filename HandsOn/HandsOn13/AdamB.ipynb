{
 "metadata": {
  "name": ""
 },
 "nbformat": 3,
 "nbformat_minor": 0,
 "worksheets": [
  {
   "cells": [
    {
     "cell_type": "code",
     "collapsed": false,
     "input": [
      "#Importo las librerias necesarias\n",
      "import numpy as np\n",
      "from sympy import *\n",
      "import matplotlib.pylab as plt\n",
      "from scipy.special import jv\n",
      "from scipy.special import jvp\n",
      "from scipy.integrate import odeint\n",
      "from scipy.integrate import ode"
     ],
     "language": "python",
     "metadata": {},
     "outputs": [],
     "prompt_number": 51
    },
    {
     "cell_type": "markdown",
     "metadata": {},
     "source": [
      "#Adam Basforth (Orden 1,2,3,4)"
     ]
    },
    {
     "cell_type": "code",
     "collapsed": false,
     "input": [
      "#Para que el resultado se vea bonito\n",
      "init_printing(use_unicode=True)"
     ],
     "language": "python",
     "metadata": {},
     "outputs": [],
     "prompt_number": 41
    },
    {
     "cell_type": "code",
     "collapsed": false,
     "input": [
      "#Orden 1\n",
      "t,fn, fn1, h, tn, tn1=symbols('t fn fn1 h tn tn1')\n",
      "tn1=tn-h\n",
      "integral=integrate(((fn1*(t-tn)/(tn1-tn)) + (fn*(t-tn1)/(tn-tn1))),(t, tn, tn+h))\n",
      "simplify(integral)"
     ],
     "language": "python",
     "metadata": {},
     "outputs": [
      {
       "latex": [
        "$$\\frac{h}{2} \\left(3 fn - fn_{1}\\right)$$"
       ],
       "metadata": {},
       "output_type": "pyout",
       "png": "[encoded data removed]",
       "prompt_number": 42,
       "text": [
        "h\u22c5(3\u22c5fn - fn\u2081)\n",
        "\u2500\u2500\u2500\u2500\u2500\u2500\u2500\u2500\u2500\u2500\u2500\u2500\u2500\u2500\n",
        "      2       "
       ]
      }
     ],
     "prompt_number": 42
    },
    {
     "cell_type": "code",
     "collapsed": false,
     "input": [
      "#Orden 2\n",
      "t,fn, fn1, h, tn, tn1, fn2, tn2=symbols('t fn fn1 h tn tn1 fn2 tn2')\n",
      "tn1=tn-h\n",
      "tn2=tn-2*h\n",
      "integral2=integrate((fn2*(t-tn)*(t-tn1)/((tn2-tn1)*(tn2-tn))) +(fn1*(t-tn)*(t-tn2)/((tn1-tn)*(tn1-tn2))) + (fn*(t-tn1)*(t-tn2)/((tn-tn1)*(tn-tn2))), (t, tn, tn+h))\n",
      "simplify(integral2)"
     ],
     "language": "python",
     "metadata": {},
     "outputs": [
      {
       "latex": [
        "$$\\frac{h}{12} \\left(23 fn - 16 fn_{1} + 5 fn_{2}\\right)$$"
       ],
       "metadata": {},
       "output_type": "pyout",
       "png": "[encoded data removed]",
       "prompt_number": 43,
       "text": [
        "h\u22c5(23\u22c5fn - 16\u22c5fn\u2081 + 5\u22c5fn\u2082)\n",
        "\u2500\u2500\u2500\u2500\u2500\u2500\u2500\u2500\u2500\u2500\u2500\u2500\u2500\u2500\u2500\u2500\u2500\u2500\u2500\u2500\u2500\u2500\u2500\u2500\u2500\u2500\n",
        "            12            "
       ]
      }
     ],
     "prompt_number": 43
    },
    {
     "cell_type": "code",
     "collapsed": false,
     "input": [
      "#Orden 3\n",
      "t,fn, fn1, h, tn, tn1, fn2, tn2, fn3, tn3=symbols('t fn fn1 h tn tn1 fn2 tn2 fn3 tn3')\n",
      "tn1=tn-h\n",
      "tn2=tn-(2*h)\n",
      "tn3=tn-(3*h)\n",
      "integral3=integrate(((fn3*(t-tn)*(t-tn1)*(t-tn2))/((tn3-tn1)*(tn3-tn)*(tn3-tn2))) + ((fn2*(t-tn)*(t-tn1)*(t-tn3))/((tn2-tn1)*(tn2-tn)*(tn2-tn3))) +((fn1*(t-tn)*(t-tn2)*(t-tn3))/((tn1-tn)*(tn1-tn2)*(tn1-tn3))) + ((fn*(t-tn1)*(t-tn2)*(t-tn3))/((tn-tn1)*(tn-tn2)*(tn-tn3))), (t, tn, tn+h))\n",
      "simplify(integral3)"
     ],
     "language": "python",
     "metadata": {},
     "outputs": [
      {
       "latex": [
        "$$\\frac{h}{24} \\left(55 fn - 59 fn_{1} + 37 fn_{2} - 9 fn_{3}\\right)$$"
       ],
       "metadata": {},
       "output_type": "pyout",
       "png": "[encoded data removed]",
       "prompt_number": 44,
       "text": [
        "h\u22c5(55\u22c5fn - 59\u22c5fn\u2081 + 37\u22c5fn\u2082 - 9\u22c5fn\u2083)\n",
        "\u2500\u2500\u2500\u2500\u2500\u2500\u2500\u2500\u2500\u2500\u2500\u2500\u2500\u2500\u2500\u2500\u2500\u2500\u2500\u2500\u2500\u2500\u2500\u2500\u2500\u2500\u2500\u2500\u2500\u2500\u2500\u2500\u2500\u2500\u2500\n",
        "                 24                "
       ]
      }
     ],
     "prompt_number": 44
    },
    {
     "cell_type": "code",
     "collapsed": false,
     "input": [
      "#Orden 4\n",
      "t,fn, fn1, h, tn, tn1, fn2, tn2, fn3, tn3, fn4, tn4=symbols('t fn fn1 h tn tn1 fn2 tn2 fn3 tn3 fn4 tn4')\n",
      "tn1=tn-h\n",
      "tn2=tn-(2*h)\n",
      "tn3=tn-(3*h)\n",
      "tn4=tn-(4*h)\n",
      "integral4=integrate(((fn4*(t-tn)*(t-tn1)*(t-tn2)*(t-tn3))/((tn4-tn1)*(tn4-tn)*(tn3-tn2)*(tn4-tn3))) + ((fn3*(t-tn)*(t-tn1)*(t-tn2)*(t-tn4))/((tn3-tn1)*(tn3-tn)*(tn3-tn2)*(tn3-tn4))) + ((fn2*(t-tn)*(t-tn1)*(t-tn3)*(t-tn4))/((tn2-tn4)*(tn2-tn1)*(tn2-tn)*(tn2-tn3))) + ((fn1*(t-tn)*(t-tn2)*(t-tn3)*(t-tn4))/((tn1-tn)*(tn1-tn2)*(tn1-tn3)*(tn1-tn4))) + ((fn*(t-tn1)*(t-tn2)*(t-tn3))/((tn-tn1)*(tn-tn2)*(tn-tn3))), (t, tn, tn+h))\n",
      "simplify(integral4)"
     ],
     "language": "python",
     "metadata": {},
     "outputs": [
      {
       "latex": [
        "$$\\frac{h}{360} \\left(825 fn - 1387 fn_{1} + 1308 fn_{2} - 637 fn_{3} + 251 fn_{4}\\right)$$"
       ],
       "metadata": {},
       "output_type": "pyout",
       "png": "[encoded data removed]",
       "prompt_number": 45,
       "text": [
        "h\u22c5(825\u22c5fn - 1387\u22c5fn\u2081 + 1308\u22c5fn\u2082 - 637\u22c5fn\u2083 + 251\u22c5fn\u2084)\n",
        "\u2500\u2500\u2500\u2500\u2500\u2500\u2500\u2500\u2500\u2500\u2500\u2500\u2500\u2500\u2500\u2500\u2500\u2500\u2500\u2500\u2500\u2500\u2500\u2500\u2500\u2500\u2500\u2500\u2500\u2500\u2500\u2500\u2500\u2500\u2500\u2500\u2500\u2500\u2500\u2500\u2500\u2500\u2500\u2500\u2500\u2500\u2500\u2500\u2500\u2500\u2500\u2500\n",
        "                        360                         "
       ]
      }
     ],
     "prompt_number": 45
    },
    {
     "cell_type": "markdown",
     "metadata": {},
     "source": [
      "#Bessel Ecuaciones - Adam-Basforth Orden 4"
     ]
    },
    {
     "cell_type": "code",
     "collapsed": false,
     "input": [
      "# Adams-Bashforth order 4, de esta familia son los m\u00e9todos utilizados por odeint\n",
      "# to solve the Bessel differential equation for n = 0\n",
      "def f(Y,t,n):\n",
      "    return np.array([Y[1],-1./t*Y[1]-(1.-n**2/t**2)*Y[0]])"
     ],
     "language": "python",
     "metadata": {},
     "outputs": [],
     "prompt_number": 46
    },
    {
     "cell_type": "code",
     "collapsed": false,
     "input": [
      "# f1 is the current slope,\n",
      "# f2 it the one before\n",
      "# and f3 the one before that one.\n",
      "def increment(f1,f2,f3):\n",
      "    global h\n",
      "    return  h/12.*(23*f1-16*f2+5*f3)"
     ],
     "language": "python",
     "metadata": {},
     "outputs": [],
     "prompt_number": 47
    },
    {
     "cell_type": "code",
     "collapsed": false,
     "input": [
      "plt.figure(figsize=(10,4))\n",
      "for n in range(3):\n",
      "    print \"Bessel\",n\n",
      "    numIter=1000\n",
      "    h=0.01\n",
      "    Y=np.array([jv(n,h),jvp(n,h)])\n",
      "    f1 = f(Y,h,n)\n",
      "    f2 = f1\n",
      "    f3 = f1\n",
      "    t=h\n",
      "    gridSol=np.array([[t,Y[0],Y[1]]])\n",
      "    x_fine=np.linspace(0,numIter*h,numIter*2)\n",
      "    \n",
      "    for __ in range(numIter):\n",
      "        Y += increment(f1,f2,f3)\n",
      "        t+=h\n",
      "        # Actualizar los valores de f1, f2 y f3 para la siguiente iteraci\u00f3n\n",
      "        f1, f2, f3 = f(Y,t,n), f1, f2\n",
      "        gridSol=np.append(gridSol,[[t,Y[0],Y[1]]],axis=0)\n",
      "    \n",
      "    plt.plot(gridSol[:,0],gridSol[:,1],\"--\",label=\"sol\")\n",
      "    plt.plot(x_fine,jv(n,x_fine),\"k\",label=\"exact \")\n",
      "    plt.legend()\n",
      "    #plt.xlim(0,1)\n",
      "    #plt.ylim(0,2)\n",
      "plt.show()\n",
      "\n"
     ],
     "language": "python",
     "metadata": {},
     "outputs": [
      {
       "output_type": "stream",
       "stream": "stdout",
       "text": [
        "Bessel 0\n",
        "Bessel"
       ]
      },
      {
       "output_type": "stream",
       "stream": "stdout",
       "text": [
        " 1\n",
        "Bessel"
       ]
      },
      {
       "output_type": "stream",
       "stream": "stdout",
       "text": [
        " 2\n"
       ]
      }
     ],
     "prompt_number": 48
    },
    {
     "cell_type": "markdown",
     "metadata": {},
     "source": [
      "#OdeInt"
     ]
    },
    {
     "cell_type": "code",
     "collapsed": false,
     "input": [
      "#Define las constantes\n",
      "Wo=1.0"
     ],
     "language": "python",
     "metadata": {},
     "outputs": [],
     "prompt_number": 52
    },
    {
     "cell_type": "code",
     "collapsed": false,
     "input": [
      "#Defino la funci\u00f3n con el array\n",
      "def fun (Y,t):\n",
      "    global Wo\n",
      "    return np.array("
     ],
     "language": "python",
     "metadata": {},
     "outputs": []
    }
   ],
   "metadata": {}
  }
 ]
}