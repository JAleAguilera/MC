{
 "metadata": {
  "name": ""
 },
 "nbformat": 3,
 "nbformat_minor": 0,
 "worksheets": [
  {
   "cells": [
    {
     "cell_type": "code",
     "collapsed": false,
     "input": [
      "import numpy as np\n",
      "import matplotlib.09pyplot as plt"
     ],
     "language": "python",
     "metadata": {},
     "outputs": [],
     "prompt_number": 10
    },
    {
     "cell_type": "code",
     "collapsed": false,
     "input": [
      "a = [1,3,5,3,1,2,3,1]\n",
      "b = [1,5,7,4,5,8,1,2] \n",
      "w = np.pi/2\n",
      "wA = np.pi/4\n",
      "w2 = 0\n",
      "w3 = 1\n",
      "t = np.linspace(-np.pi,np.pi,200)\n",
      "\n",
      "for i in range(0,4):\n",
      "    x = np.sin(a[i] * t + w)\n",
      "    y = np.sin(b[i] * t)\n",
      "    plt.subplot(5,5,i+1)\n",
      "    plt.plot(x,y)\n",
      "    \n",
      "for i in range(0,4):\n",
      "    x = np.sin(a[i] * t + wA)\n",
      "    y = np.sin(b[i] * t)\n",
      "    plt.subplot(5,5,(1+i)+1)\n",
      "    plt.plot(x,y) \n",
      "    \n",
      "for i in range(0,4):\n",
      "    x = np.sin(a[i] * t + w2)\n",
      "    y = np.sin(b[i] * t)\n",
      "    plt.subplot(5,5,(2+i)+1)\n",
      "    plt.plot(x,y) \n",
      "\n",
      "for i in range(0,4):\n",
      "    x = np.sin(a[i] * t + w3)\n",
      "    y = np.sin(b[i] * t)\n",
      "    plt.subplot(5,5,(3+i)+1)\n",
      "    plt.plot(x,y) \n",
      "    \n",
      "plt.show()"
     ],
     "language": "python",
     "metadata": {},
     "outputs": [],
     "prompt_number": 67
    },
    {
     "cell_type": "code",
     "collapsed": false,
     "input": [],
     "language": "python",
     "metadata": {},
     "outputs": []
    }
   ],
   "metadata": {}
  }
 ]
}