{
 "metadata": {
  "name": ""
 },
 "nbformat": 3,
 "nbformat_minor": 0,
 "worksheets": [
  {
   "cells": [
    {
     "cell_type": "code",
     "collapsed": false,
     "input": [
      "import matplotlib.pyplot as plt\n",
      "plt.plot([1,2,3,4])\n",
      "plt.ylabel('some numbers')\n",
      "plt.show()"
     ],
     "language": "python",
     "metadata": {},
     "outputs": [],
     "prompt_number": 1
    },
    {
     "cell_type": "code",
     "collapsed": false,
     "input": [
      "import matplotlib.pyplot as plt\n",
      "plt.plot([1,2,3,4], [1,4,9,16],'ro')\n",
      "plt.axis([0,6,0,20])\n",
      "plt.show()"
     ],
     "language": "python",
     "metadata": {},
     "outputs": [],
     "prompt_number": 3
    },
    {
     "cell_type": "code",
     "collapsed": false,
     "input": [
      "import numpy as np\n",
      "import matplotlib.pyplot as plt\n",
      "# evenly sampled time at 200ms intervals\n",
      "t=np.arange(0., 5.,0.2)\n",
      "# red dashes, blue squares and green triangles\n",
      "plt.plot(t, t,'r--', t, t**2,'bs', t, t**3,'g^')\n",
      "plt.show()"
     ],
     "language": "python",
     "metadata": {},
     "outputs": [],
     "prompt_number": 4
    },
    {
     "cell_type": "code",
     "collapsed": false,
     "input": [
      "import numpy as np\n",
      "import matplotlib.pyplot as plt\n",
      "def f(t):\n",
      "    return np.exp(-t) * np.cos(2*np.pi*t)\n",
      "t1=np.arange(0.0, 5.0, 0.1)\n",
      "t2 = np.arange(0.0, 5.0, 0.02)\n",
      "plt.figure(1)\n",
      "plt.subplot(211)\n",
      "plt.plot(t1, f(t1),'bo', t2, f(t2),'k')\n",
      "plt.subplot(212)\n",
      "plt.plot(t2, np.cos(2*np.pi*t2),'r--')\n",
      "plt.show()"
     ],
     "language": "python",
     "metadata": {},
     "outputs": [],
     "prompt_number": 5
    },
    {
     "cell_type": "code",
     "collapsed": false,
     "input": [
      "import numpy as np\n",
      "import matplotlib.pyplot as plt\n",
      "mu, sigma = 100, 15\n",
      "x = mu + sigma * np.random.randn(10000)\n",
      "# the histogram of the data\n",
      "n, bins, patches = plt.hist(x, 50, normed=1, facecolor='g', alpha=0.75)\n",
      "plt.xlabel('Smarts')\n",
      "plt.ylabel('Probability')\n",
      "plt.title('Histogram of IQ')\n",
      "plt.text(60, .025, r'$\\mu=100,\\ \\sigma=15$')\n",
      "plt.axis([40, 160, 0, 0.03])\n",
      "plt.grid(True)\n",
      "plt.show()"
     ],
     "language": "python",
     "metadata": {},
     "outputs": [],
     "prompt_number": 6
    },
    {
     "cell_type": "code",
     "collapsed": false,
     "input": [
      "import numpy as np\n",
      "import matplotlib.pyplot as plt\n",
      "ax = plt.subplot(111)\n",
      "t = np.arange(0.0, 5.0, 0.01)\n",
      "s = np.cos(2*np.pi*t)\n",
      "line, = plt.plot(t, s, lw=2)\n",
      "plt.annotate('local max', xy=(2, 1), xytext=(3, 1.5),arrowprops=dict(facecolor='black', shrink=0.05),)\n",
      "plt.ylim(-2,2)\n",
      "plt.show()"
     ],
     "language": "python",
     "metadata": {},
     "outputs": [],
     "prompt_number": 7
    },
    {
     "cell_type": "code",
     "collapsed": false,
     "input": [
      "import matplotlib.pyplot as plt\n",
      "fig = plt.figure()\n",
      "fig.suptitle('bold figure suptitle', fontsize=14, fontweight='bold')\n",
      "ax = fig.add_subplot(111)\n",
      "fig.subplots_adjust(top=0.85)\n",
      "ax.set_title('axes title')\n",
      "ax.set_xlabel('xlabel')\n",
      "ax.set_ylabel('ylabel')\n",
      "ax.text(3, 8,'boxed italics text in data coords', style='italic',bbox={'facecolor':'red','alpha':0.5,'pad':10})\n",
      "ax.text(2, 6, r'an equation: $E=mc^2$', fontsize=15)\n",
      "ax.text(3, 2, unicode('unicode: Institut f\\374r Festk\\366rperphysik','latin-1'))\n",
      "ax.text(0.95, 0.01,'colored text in axes coords',verticalalignment='bottom', horizontalalignment='right',transform=ax.transAxes,color='green', fontsize=15)\n",
      "ax.plot([2], [1],'o')\n",
      "ax.annotate('annotate', xy=(2, 1), xytext=(3, 4),arrowprops=dict(facecolor='black', shrink=0.05))\n",
      "ax.axis([0, 10, 0, 10])\n",
      "plt.show()"
     ],
     "language": "python",
     "metadata": {},
     "outputs": [],
     "prompt_number": 8
    },
    {
     "cell_type": "code",
     "collapsed": false,
     "input": [
      "import matplotlib.pyplot as plt\n",
      "import matplotlib.patches as patche\n",
      "left, width = .25, .5\n",
      "bottom, height = .25, .5\n",
      "right = left + width\n",
      "top = bottom + heigh\n",
      "fig = plt.figure()\n",
      "ax = fig.add_axes([0,0,1,1])\n",
      "# axes coordinates are 0,0 is bottom left and 1,1 is upper right\n",
      "p = patches.Rectangle((left, bottom), width, height,fill=False, transform=ax.transAxes, clip_on=(False)\n",
      "ax.add_patch(p)\n",
      "ax.text(left, bottom,'left top',horizontalalignment='left',verticalalignment='top',transform=ax.transAxes)\n",
      "ax.text(left, bottom,'left bottom',horizontalalignment='left',verticalalignment='bottom',transform=ax.transAxes)\n",
      "ax.text(right, top,'right bottom',horizontalalignment='right',verticalalignment='bottom',transform=ax.transAxes)\n",
      "ax.text(right, top,'right top',horizontalalignment='right',verticalalignment='top',transform=ax.transAxes)\n",
      "ax.text(right, bottom,'center top',horizontalalignment='center',verticalalignment='top',transform=ax.transAxes)\n",
      "ax.text(left, 0.5*(bottom+top),'right center',horizontalalignment='right',verticalalignment='center',rotation='vertical',transform=ax.transAxes)\n",
      "ax.text(left, 0.5*(bottom+top),'left center',horizontalalignment='left',verticalalignment='center',rotation='vertical',transform=ax.transAxes)\n",
      "ax.text(0.5*(left+right), 0.5*(bottom+top),'middle',horizontalalignment='center',verticalalignment='center',fontsize=20, color='red',transform=ax.transAxes)\n",
      "ax.text(right, 0.5*(bottom+top),'centered',horizontalalignment='center',verticalalignment='center',rotation='vertical',transform=ax.transAxes)\n",
      "ax.text(left, top,'rotated\\nwith newlines',horizontalalignment='center',verticalalignment='center',rotation=45,transform=ax.transAxes)\n",
      "ax.set_axis_off()\n",
      "plt.show()"
     ],
     "language": "python",
     "metadata": {},
     "outputs": [
      {
       "ename": "SyntaxError",
       "evalue": "invalid syntax (<ipython-input-15-dcbeb65cf3a6>, line 11)",
       "output_type": "pyerr",
       "traceback": [
        "\u001b[0;36m  File \u001b[0;32m\"<ipython-input-15-dcbeb65cf3a6>\"\u001b[0;36m, line \u001b[0;32m11\u001b[0m\n\u001b[0;31m    ax.add_patch(p)\u001b[0m\n\u001b[0m     ^\u001b[0m\n\u001b[0;31mSyntaxError\u001b[0m\u001b[0;31m:\u001b[0m invalid syntax\n"
       ]
      }
     ],
     "prompt_number": 15
    },
    {
     "cell_type": "code",
     "collapsed": false,
     "input": [
      "import numpy as np\n",
      "import matplotlib.pyplot as plt\n",
      "t = np.arange(0.0, 2.0, 0.01)\n",
      "s = np.sin(2*np.pi*t)\n",
      "plt.plot(t,s)\n",
      "plt.title(r'$\\alpha_i > \\beta_i$', fontsize=20)\n",
      "plt.text(1, -0.6, r'$\\sum_{i=0}^\\infty x_i$', fontsize=20)\n",
      "plt.text(0.6, 0.6, r'$\\mathcal{A}\\mathrm{sin}(2 \\omega t)$',fontsize=20)\n",
      "plt.xlabel('time (s)')\n",
      "plt.ylabel('volts (mV)')\n",
      "plt.show()"
     ],
     "language": "python",
     "metadata": {},
     "outputs": [],
     "prompt_number": 14
    },
    {
     "cell_type": "code",
     "collapsed": false,
     "input": [],
     "language": "python",
     "metadata": {},
     "outputs": []
    }
   ],
   "metadata": {}
  }
 ]
}