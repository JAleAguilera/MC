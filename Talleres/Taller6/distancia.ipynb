{
 "metadata": {
  "name": ""
 },
 "nbformat": 3,
 "nbformat_minor": 0,
 "worksheets": [
  {
   "cells": [
    {
     "cell_type": "code",
     "collapsed": false,
     "input": [
      "%pylab inline\n",
      "import numpy as np\n",
      "import matplotlib.pyplot as plt\n",
      "import scipy as sp \n",
      "from scipy import interpolate"
     ],
     "language": "python",
     "metadata": {},
     "outputs": [
      {
       "output_type": "stream",
       "stream": "stdout",
       "text": [
        "Populating the interactive namespace from numpy and matplotlib\n"
       ]
      }
     ],
     "prompt_number": 134
    },
    {
     "cell_type": "code",
     "collapsed": false,
     "input": [
      "archivo=np.genfromtxt(\"./clean.csv\", delimiter=\",\")"
     ],
     "language": "python",
     "metadata": {},
     "outputs": [],
     "prompt_number": 78
    },
    {
     "cell_type": "code",
     "collapsed": false,
     "input": [
      "#Declaro mis varaibles del archivo\n",
      "longitud=archivo[:,0]\n",
      "latitud=archivo[:,1]\n",
      "hora=archivo[:,3]\n",
      "minuto=archivo[:,4]\n",
      "seg=archivo[:,5]\n",
      "print longitud\n",
      "print latitud"
     ],
     "language": "python",
     "metadata": {},
     "outputs": [
      {
       "output_type": "stream",
       "stream": "stdout",
       "text": [
        "[-74.07830811 -74.07826233 -74.07821655 ..., -74.08422852 -74.08422852\n",
        " -74.08422852]\n",
        "[ 4.65095949  4.65105486  4.65120363 ...,  4.63229609  4.63229609\n",
        "  4.63229609]\n"
       ]
      }
     ],
     "prompt_number": 79
    },
    {
     "cell_type": "code",
     "collapsed": false,
     "input": [
      "#Cambio de variable de esf\u00e9ricas a cartesianas\n",
      "#Theta es longitud\n",
      "#Fi es latitud\n",
      "latitudN=np.array(latitud)\n",
      "fi=(np.pi/2-latitudN)\n",
      "\n",
      "tetha=(np.array(longitud))\n",
      "\n",
      "r=6371 #En Kilometros\n",
      "x=r*np.cos((tetha))*np.sin((fi))\n",
      "y=r*np.sin((tetha))*np.cos((fi))\n",
      "z=r*cos((fi))\n",
      "\n",
      "print len(x)\n",
      "print len(y)\n",
      "print len(z)\n",
      "print x\n",
      "print y"
     ],
     "language": "python",
     "metadata": {},
     "outputs": [
      {
       "output_type": "stream",
       "stream": "stdout",
       "text": [
        "1863\n",
        "1863\n",
        "1863\n",
        "[ -97.09865935  -96.93078901  -96.67869063 ..., -129.46435752 -129.46435752\n",
        " -129.46435752]\n",
        "[-6159.90963862 -6160.01800256 -6160.14646157 ..., -6142.32439224\n",
        " -6142.32439224 -6142.32439224]\n"
       ]
      }
     ],
     "prompt_number": 186
    },
    {
     "cell_type": "code",
     "collapsed": false,
     "input": [
      "#Hallar el desplazamiento espacio-temporal\n",
      "#Como desprecio la altura, no tengo en cuenta la coordenada z\n",
      "#Creo las variables de las posiciones iniciales\n",
      "#Resto las posiciones iniciales a todo las posiciones\n",
      "posicionIncialX=x[0]\n",
      "posicionInicialY=y[0]\n",
      "\n",
      "desplaX= x - posicionIncialX\n",
      "desplaY= y - posicionInicialY\n",
      "\n",
      "print desplaX\n",
      "print desplaY"
     ],
     "language": "python",
     "metadata": {},
     "outputs": [
      {
       "output_type": "stream",
       "stream": "stdout",
       "text": [
        "[  0.           0.16787034   0.41996871 ..., -32.36569817 -32.36569817\n",
        " -32.36569817]\n",
        "[  0.          -0.10836394  -0.23682295 ...,  17.58524638  17.58524638\n",
        "  17.58524638]\n"
       ]
      }
     ],
     "prompt_number": 187
    },
    {
     "cell_type": "code",
     "collapsed": false,
     "input": [
      "#Declaro las coordenadas de referencia\n",
      "#Es necesario hacer un cambio de coordenadas a radianes\n",
      "uniLong=-74.0758\n",
      "uniLati=4.5981\n",
      "\n",
      "radiLong=np.radians(uniLong)\n",
      "radiLati=np.radians(90-uniLati)\n",
      "\n",
      "print radiLati\n",
      "print radiLong"
     ],
     "language": "python",
     "metadata": {},
     "outputs": [
      {
       "output_type": "stream",
       "stream": "stdout",
       "text": [
        "1.49054434246\n",
        "-1.29286660605\n"
       ]
      }
     ],
     "prompt_number": 188
    },
    {
     "cell_type": "code",
     "collapsed": false,
     "input": [
      "#Vectores Unitarios en direccion norte y oriente \u00fanicamente\n",
      "norte=[cos(radiLati)*cos(radiLong),cos(radiLati)*sin(radiLong),-sin(radiLati)]\n",
      "oriente=[-sin(radiLong),cos(radiLong),0]\n",
      "\n",
      "print norte\n",
      "print oriente"
     ],
     "language": "python",
     "metadata": {},
     "outputs": [
      {
       "output_type": "stream",
       "stream": "stdout",
       "text": [
        "[0.021994741316202545, -0.077089545610968424, -0.9967815374052269]\n",
        "[0.96162551169992816, 0.27436540461189934, 0]\n"
       ]
      }
     ],
     "prompt_number": 189
    },
    {
     "cell_type": "code",
     "collapsed": false,
     "input": [
      "#Producto punto entre los desplzamientos y el vector unitario \n",
      "#Desprecio altura, es decir desprecio la coordenada z \n",
      "\n",
      "totalNorte=zeros(len(desplaX))\n",
      "totalOriente=zeros(len(desplaY))\n",
      "\n",
      "for i in range(len(desplaX)):\n",
      "    localXNorte=norte[0]*desplaX[i]\n",
      "    localYNorte=norte[1]*desplaY[i]\n",
      "    totalNorte[i]=localXNorte+localYNorte\n",
      "    \n",
      "for i in range(len(desplaY)):\n",
      "    localXOriente=oriente[0]*desplaX[i]\n",
      "    localYOriente=oriente[0]*desplaY[i]\n",
      "    totalOriente[i]=localXOriente+localYOriente\n",
      "    \n",
      "print totalNorte\n",
      "print totalOriente\n",
      "print len(totalNorte)\n",
      "print len(totalOriente)"
     ],
     "language": "python",
     "metadata": {},
     "outputs": [
      {
       "output_type": "stream",
       "stream": "stdout",
       "text": [
        "[ 0.          0.01204599  0.02749368 ..., -2.06751381 -2.06751381\n",
        " -2.06751381]\n",
        "[  0.           0.05722287   0.17611764 ..., -14.21325951 -14.21325951\n",
        " -14.21325951]\n",
        "1863\n",
        "1863\n"
       ]
      }
     ],
     "prompt_number": 190
    },
    {
     "cell_type": "code",
     "collapsed": false,
     "input": [
      "#Graficar la trayectoria\n",
      "plt.plot(totalNorte,totalOriente , color='m')\n",
      "plt.title(\"Trayectoria Parque\")"
     ],
     "language": "python",
     "metadata": {},
     "outputs": [
      {
       "metadata": {},
       "output_type": "pyout",
       "prompt_number": 192,
       "text": [
        "<matplotlib.text.Text at 0xaf82da2c>"
       ]
      },
      {
       "metadata": {},
       "output_type": "display_data",
       "png": "[encoded data removed]",
       "text": [
        "<matplotlib.figure.Figure at 0xaf8e794c>"
       ]
      }
     ],
     "prompt_number": 192
    },
    {
     "cell_type": "code",
     "collapsed": false,
     "input": [
      "#Integral de la distancia\n",
      "#Defino los termino de la integral y el cuadrado de los mismos\n",
      "#Se debe hacer la integral a mano, debido a que no hay una funci\u00f3n construida\n",
      "\n",
      "dx = totalOriente-np.roll(totalOriente, 1)\n",
      "dy = totalNorte-np.roll(totalNorte, 1)\n",
      "\n",
      "suma = []\n",
      "for i in range(len(totalNorte)):\n",
      "   suma.append(np.sqrt(dx[i]**2 + dy[i]**2))\n",
      "\n",
      "sumaTotal = np.cumsum(suma)\n",
      "sumaKm=sumaTotal*0.1"
     ],
     "language": "python",
     "metadata": {},
     "outputs": [],
     "prompt_number": 196
    },
    {
     "cell_type": "code",
     "collapsed": false,
     "input": [
      "#Para poder graficar necesito datos de tiempo \n",
      "#De los archivos traigo las columnas de tiempo y paso todo a segundos y luego a horas\n",
      "\n",
      "hora=archivo[:,3]\n",
      "minuto=archivo[:,4]\n",
      "seg=archivo[:,5]\n",
      "\n",
      "print hora\n",
      "print minuto\n",
      "print seg\n",
      "\n",
      "horaMin=minuto/60\n",
      "horaSeg=seg/3600\n",
      "\n",
      "print horaMin\n",
      "print horaSeg\n",
      "\n",
      "tiempo=[]\n",
      "\n",
      "for i in range(len(seg)):\n",
      "    tiempo.append((hora[i]+horaMin[i]+horaSeg[i])*0.1)\n",
      "    "
     ],
     "language": "python",
     "metadata": {},
     "outputs": [
      {
       "output_type": "stream",
       "stream": "stdout",
       "text": [
        "[ 11.  11.  11. ...,  13.  13.  13.]\n",
        "[ 21.  21.  21. ...,   0.   0.   0.]\n",
        "[  4.   6.  14. ...,  16.  18.  19.]\n",
        "[ 0.35  0.35  0.35 ...,  0.    0.    0.  ]\n",
        "[ 0.00111111  0.00166667  0.00388889 ...,  0.00444444  0.005       0.00527778]\n"
       ]
      }
     ],
     "prompt_number": 199
    },
    {
     "cell_type": "code",
     "collapsed": false,
     "input": [
      "#Con este llamo el tipo de estilo de la gr\u00e1fica\n",
      "plt.xkcd()\n",
      "plt.plot(tiempo, sumaKm)\n",
      "plt.title(\"Walk in the Park\")"
     ],
     "language": "python",
     "metadata": {},
     "outputs": [
      {
       "metadata": {},
       "output_type": "pyout",
       "prompt_number": 220,
       "text": [
        "<matplotlib.text.Text at 0xaf68456c>"
       ]
      },
      {
       "metadata": {},
       "output_type": "display_data",
       "png": "[encoded data removed]",
       "text": [
        "<matplotlib.figure.Figure at 0xaf6c802c>"
       ]
      }
     ],
     "prompt_number": 220
    },
    {
     "cell_type": "code",
     "collapsed": false,
     "input": [
      "#Funci\u00f3n para que por parametro la distancia en kilometros y devuelve distancia\n",
      "#Con el while creo el ciclo infinito, y para cuando el argumento del Boolean sea Falso y esto solo sucede cuando la distancia es igual o mayor al parametro\n",
      "def TiempoDist(km):\n",
      "    i=0\n",
      "    indice=0\n",
      "    parar=True\n",
      "    while(parar): \n",
      "        if(sumaKm[i]>=km):\n",
      "            indice=i \n",
      "            parar=False\n",
      "        i+=1\n",
      "        \n",
      "    lati=latitud[indice]\n",
      "    longi=longitud[indice]\n",
      "    dist=suma[i]\n",
      "    time=tiempo[indice]\n",
      "    return(lati, longi, dist, time)"
     ],
     "language": "python",
     "metadata": {},
     "outputs": [],
     "prompt_number": 221
    },
    {
     "cell_type": "code",
     "collapsed": false,
     "input": [
      "#Todos los datos para los diferente km de 1 a 9\n",
      "print TiempoDist(1)\n",
      "print TiempoDist(2)\n",
      "print TiempoDist(3)\n",
      "print TiempoDist(4)\n",
      "print TiempoDist(5)\n",
      "print TiempoDist(6)\n",
      "print TiempoDist(7)\n",
      "print TiempoDist(8)\n",
      "print TiempoDist(9)"
     ],
     "language": "python",
     "metadata": {},
     "outputs": [
      {
       "output_type": "stream",
       "stream": "stdout",
       "text": [
        "(4.6509594917297363, -74.07830810546875, 0.05847702446752958, 1.1351111111111112)\n",
        "(4.6527400016784668, -74.081413269042969, 0.0, 1.1409166666666668)\n",
        "(4.6546802520751953, -74.082572937011719, 0.098591086559378094, 1.1550833333333335)\n",
        "(4.6558237075805664, -74.080131530761719, 0.0, 1.1659444444444444)\n",
        "(4.6534433364868164, -74.081169128417969, 0.016125440228521505, 1.1838611111111113)\n",
        "(4.6534204483032227, -74.08148193359375, 0.17270958546033832, 1.1971666666666667)\n",
        "(4.653113842010498, -74.082374572753906, 0.013508057830346306, 1.2155555555555557)\n",
        "(4.6528677940368652, -74.0819091796875, 0.12766122582859751, 1.2631666666666668)\n",
        "(4.6448421478271484, -74.081382751464844, 0.0, 1.2746111111111111)\n"
       ]
      }
     ],
     "prompt_number": 222
    },
    {
     "cell_type": "code",
     "collapsed": false,
     "input": [
      "#Rapidez con forwards "
     ],
     "language": "python",
     "metadata": {},
     "outputs": [],
     "prompt_number": 201
    },
    {
     "cell_type": "code",
     "collapsed": false,
     "input": [],
     "language": "python",
     "metadata": {},
     "outputs": []
    }
   ],
   "metadata": {}
  }
 ]
}