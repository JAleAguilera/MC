{
 "metadata": {
  "name": ""
 },
 "nbformat": 3,
 "nbformat_minor": 0,
 "worksheets": [
  {
   "cells": [
    {
     "cell_type": "code",
     "collapsed": false,
     "input": [
      "%pylab inline\n",
      "import numpy as np"
     ],
     "language": "python",
     "metadata": {},
     "outputs": [
      {
       "output_type": "stream",
       "stream": "stdout",
       "text": [
        "Populating the interactive namespace from numpy and matplotlib\n"
       ]
      }
     ],
     "prompt_number": 3
    },
    {
     "cell_type": "code",
     "collapsed": false,
     "input": [
      "#Se declaran las condicones de frontera\n",
      "#N\u00famero de veces en que se partio el Tiempo\n",
      "Nt=2000\n",
      "\n",
      "#N\u00famero de veces en que se partio la Posici\u00f3n\n",
      "Nl=50  \n",
      "\n",
      "# Longitud Lado del cubo\n",
      "L=10. \n",
      "\n",
      "#Tiempo m\u00ednimo\n",
      "tmin=0\n",
      "\n",
      "#Tiempo maximo\n",
      "tmax=.3\n",
      "\n",
      "#X min\n",
      "xmin=-L/2\n",
      "\n",
      "#X max \n",
      "xmax=L/2\n",
      "\n",
      "#Y min\n",
      "ymin=-L/2\n",
      "\n",
      "#Y max\n",
      "ymax=L/2\n",
      "\n",
      "#Derivada\n",
      "dt=(tmax-tmin)/Nt\n",
      "dx=(xmax-xmin)/Nl\n",
      "\n",
      "#Velocidad (m/s)\n",
      "v=425. \n",
      "\n",
      "#Coordenadas en X y Y\n",
      "xcoords=np.linspace(xmin,xmax,Nl)\n",
      "ycoords=np.linspace(xmin,xmax,Nl)\n",
      "\n",
      "#Mesh \n",
      "xmesh,ymesh=np.meshgrid(xcoords,ycoords)\n",
      "\n",
      "r=v*dt/dx\n",
      "print r\n",
      "\n",
      "#En dos caras opuestas:\n",
      "#\u03c8(x,y,0) =\n",
      " #np.exp(-xmesh**2)*np.exp(-ymesh**2)"
     ],
     "language": "python",
     "metadata": {},
     "outputs": [
      {
       "output_type": "stream",
       "stream": "stdout",
       "text": [
        "0.31875\n"
       ]
      }
     ],
     "prompt_number": 4
    },
    {
     "cell_type": "code",
     "collapsed": false,
     "input": [
      "#Primer cubo Primera cara\n",
      "#Inspirada en el ejemplo del cuaderno de la clase del profesor Juan David Lizarazo\n",
      "malla1=np.zeros((Nt, Nl, Nl))\n",
      "stdev=0.1\n",
      "\n",
      "\n",
      "malla1[0]=np.exp(-xmesh**2/(2*stdev**2))*np.exp(-ymesh**2/(2*stdev**2))\n",
      "malla1[1]=malla1[0]+r**2/2.*(np.roll(malla1[0],1,axis=0)+np.roll(malla1[0],-1,axis=0)+np.roll(malla1[0],1,axis=1)+np.roll(malla1[0],-1,axis=1)-4*malla1[0])\n",
      "\n",
      "# Mostrar la condici\u00f3n inicial\n",
      "plt.figure(figsize=(5,10))\n",
      "plt.imshow(malla1[0],cmap='gist_heat')\n",
      "plt.show()"
     ],
     "language": "python",
     "metadata": {},
     "outputs": [
      {
       "metadata": {},
       "output_type": "display_data",
       "png": "[encoded data removed]",
       "text": [
        "<matplotlib.figure.Figure at 0xb180becc>"
       ]
      }
     ],
     "prompt_number": 5
    },
    {
     "cell_type": "code",
     "collapsed": false,
     "input": [
      "#Segunda cara \n",
      "\n",
      "malla2=np.zeros((Nt, Nl, Nl))\n",
      "stdev=0.1\n",
      "\n",
      "\n",
      "malla2[0]=np.exp(-xmesh**2/(2*stdev**2))*np.exp(-ymesh**2/(2*stdev**2))\n",
      "malla2[1]=malla1[0]+r**2/2.*(np.roll(malla1[0],1,axis=0)+np.roll(malla2[0],-1,axis=0)+np.roll(malla2[0],1,axis=1)+np.roll(malla2[0],-1,axis=1)-4*malla2[0])\n",
      "\n",
      "# Mostrar la condici\u00f3n inicial\n",
      "plt.figure(figsize=(5,10))\n",
      "plt.imshow(malla2[0],cmap='gist_heat')\n",
      "plt.title(\"Malla 2\")\n",
      "plt.show()"
     ],
     "language": "python",
     "metadata": {},
     "outputs": [
      {
       "metadata": {},
       "output_type": "display_data",
       "png": "[encoded data removed]",
       "text": [
        "<matplotlib.figure.Figure at 0xaf03c10c>"
       ]
      }
     ],
     "prompt_number": 11
    },
    {
     "cell_type": "code",
     "collapsed": false,
     "input": [
      "#Defino los lados del primer cubo \n",
      "#Existe un problema en las esquinas debido a que las condiciones de frontera son perodicas\n",
      "#Entonces la \u00falitma fila debe estar conectada con la primera fila de la siguiente cara a la cual est\u00e1 conectada con la esquina\n",
      "#Una soluci\u00f3n \u00fatil es crear una fila en cada esquina de la cara y estas filas \"falsas\" conectarlas\n",
      "\n",
      "lad1= np.zeros((Nt,Nl,Nl))\n",
      "lad2= malla1\n",
      "lad3= np.zeros((Nt,Nl,Nl))\n"
     ],
     "language": "python",
     "metadata": {},
     "outputs": [],
     "prompt_number": 12
    },
    {
     "cell_type": "code",
     "collapsed": false,
     "input": [],
     "language": "python",
     "metadata": {},
     "outputs": []
    }
   ],
   "metadata": {}
  }
 ]
}