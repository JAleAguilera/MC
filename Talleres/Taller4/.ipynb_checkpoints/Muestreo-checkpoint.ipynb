{
 "metadata": {
  "name": ""
 },
 "nbformat": 3,
 "nbformat_minor": 0,
 "worksheets": [
  {
   "cells": [
    {
     "cell_type": "code",
     "collapsed": false,
     "input": [
      "%pylab inline\n",
      "import numpy as np\n",
      "import matplotlib.pyplot as plt\n",
      "import scipy as sp\n",
      "from scipy import interpolate"
     ],
     "language": "python",
     "metadata": {},
     "outputs": [
      {
       "output_type": "stream",
       "stream": "stdout",
       "text": [
        "Populating the interactive namespace from numpy and matplotlib\n"
       ]
      }
     ],
     "prompt_number": 1
    },
    {
     "cell_type": "code",
     "collapsed": false,
     "input": [
      "archivo=np.genfromtxt(\"./Datos.csv\", delimiter=\",\")"
     ],
     "language": "python",
     "metadata": {},
     "outputs": [],
     "prompt_number": 4
    },
    {
     "cell_type": "code",
     "collapsed": false,
     "input": [
      "print archivo[:,1]\n"
     ],
     "language": "python",
     "metadata": {},
     "outputs": [
      {
       "output_type": "stream",
       "stream": "stdout",
       "text": [
        "[ 2.30060162  2.31193403  2.3021266   2.25835963  2.24136088  2.11468161\n",
        "  1.96176872  1.71619354  1.25473904 -1.4341112  -1.20791779 -0.99122903\n",
        " -0.68715474 -0.15261007  0.32496464  1.3161822   1.37058691  1.40061636\n",
        "  1.41356286  1.41133467  1.41289891  0.03969665 -0.06812829 -0.07040875]\n"
       ]
      }
     ],
     "prompt_number": 5
    },
    {
     "cell_type": "code",
     "collapsed": false,
     "input": [
      "y=archivo[:,1]"
     ],
     "language": "python",
     "metadata": {},
     "outputs": [],
     "prompt_number": 6
    },
    {
     "cell_type": "code",
     "collapsed": false,
     "input": [
      "print archivo[:,0]"
     ],
     "language": "python",
     "metadata": {},
     "outputs": [
      {
       "output_type": "stream",
       "stream": "stdout",
       "text": [
        "[ 0.13849067  0.1538244   0.2295782   0.26643518  0.27692941  0.33415906\n",
        "  0.38361219  0.44643489  0.54198992  1.33433324  1.44538291  1.51883847\n",
        "  1.60573896  1.74396178  1.87038246  2.30863773  2.38628526  2.46587111\n",
        "  2.65137821  2.75152244  2.82756612  4.19566322  4.31051855  4.45641816]\n"
       ]
      }
     ],
     "prompt_number": 7
    },
    {
     "cell_type": "code",
     "collapsed": false,
     "input": [
      "x=archivo[:,0]"
     ],
     "language": "python",
     "metadata": {},
     "outputs": [],
     "prompt_number": 8
    },
    {
     "cell_type": "code",
     "collapsed": false,
     "input": [
      "espa=np.linspace(x[0],x[23],len(x))           "
     ],
     "language": "python",
     "metadata": {},
     "outputs": [],
     "prompt_number": 13
    },
    {
     "cell_type": "code",
     "collapsed": false,
     "input": [
      "inter=sp.interpolate.interp1d(x,y,kind='cubic')"
     ],
     "language": "python",
     "metadata": {},
     "outputs": [],
     "prompt_number": 12
    },
    {
     "cell_type": "code",
     "collapsed": false,
     "input": [
      "for i in range (0,24,1):\n",
      "    x[i]=espa[i];\n",
      "    y[i]=inter(x[i])\n",
      "    print x[i],y[i]\n",
      "    "
     ],
     "language": "python",
     "metadata": {},
     "outputs": [
      {
       "output_type": "stream",
       "stream": "stdout",
       "text": [
        "0.138490669327 2.30060161547\n",
        "0.326226647315 2.13557983804\n",
        "0.513962625304 1.39719881749\n",
        "0.701698603292 0.417206585909\n",
        "0.889434581281 -0.508199547139\n",
        "1.07717055927 -1.19852808033\n",
        "1.26490653726 -1.4736082803\n",
        "1.45264251525 -1.18833620006\n",
        "1.64037849323 -0.55652504403\n",
        "1.82811447122 0.171218763615\n",
        "2.01585044921 0.779865462088\n",
        "2.2035864272 1.18452422396\n",
        "2.39132240519 1.37314208846\n",
        "2.57905838318 1.41448149449\n",
        "2.76679436116 1.41176113173\n",
        "2.95453033915 1.38826705753\n",
        "3.14226631714 1.28426676118\n",
        "3.33000229513 1.11616041679\n",
        "3.51773827312 0.902468822017\n",
        "3.70547425111 0.661712774524\n",
        "3.89321022909 0.412413071971\n",
        "4.08094620708 0.173090512018\n",
        "4.26868218507 -0.0349501128798\n",
        "4.45641816306 -0.0704087548339\n"
       ]
      }
     ],
     "prompt_number": 15
    },
    {
     "cell_type": "code",
     "collapsed": false,
     "input": [],
     "language": "python",
     "metadata": {},
     "outputs": []
    }
   ],
   "metadata": {}
  }
 ]
}