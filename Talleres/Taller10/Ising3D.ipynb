{
 "metadata": {
  "name": ""
 },
 "nbformat": 3,
 "nbformat_minor": 0,
 "worksheets": [
  {
   "cells": [
    {
     "cell_type": "code",
     "collapsed": false,
     "input": [
      "%pylab inline\n",
      "import numpy as np\n",
      "import matplotlib as mpl; import matplotlib.pyplot as plt\n",
      "%matplotlib inline\n",
      "import os; import pickle"
     ],
     "language": "python",
     "metadata": {},
     "outputs": [
      {
       "output_type": "stream",
       "stream": "stdout",
       "text": [
        "Populating the interactive namespace from numpy and matplotlib\n"
       ]
      }
     ],
     "prompt_number": 2
    },
    {
     "cell_type": "code",
     "collapsed": false,
     "input": [
      "#Ising 3-D\n",
      "#Defino las constantes\n",
      "N=20\n",
      "lattice=np.ones((20,20,20))\n",
      "T=10.\n",
      "beta=1./T\n",
      "print lattice"
     ],
     "language": "python",
     "metadata": {},
     "outputs": [
      {
       "output_type": "stream",
       "stream": "stdout",
       "text": [
        "[[[ 1.  1.  1. ...,  1.  1.  1.]\n",
        "  [ 1.  1.  1. ...,  1.  1.  1.]\n",
        "  [ 1.  1.  1. ...,  1.  1.  1.]\n",
        "  ..., \n",
        "  [ 1.  1.  1. ...,  1.  1.  1.]\n",
        "  [ 1.  1.  1. ...,  1.  1.  1.]\n",
        "  [ 1.  1.  1. ...,  1.  1.  1.]]\n",
        "\n",
        " [[ 1.  1.  1. ...,  1.  1.  1.]\n",
        "  [ 1.  1.  1. ...,  1.  1.  1.]\n",
        "  [ 1.  1.  1. ...,  1.  1.  1.]\n",
        "  ..., \n",
        "  [ 1.  1.  1. ...,  1.  1.  1.]\n",
        "  [ 1.  1.  1. ...,  1.  1.  1.]\n",
        "  [ 1.  1.  1. ...,  1.  1.  1.]]\n",
        "\n",
        " [[ 1.  1.  1. ...,  1.  1.  1.]\n",
        "  [ 1.  1.  1. ...,  1.  1.  1.]\n",
        "  [ 1.  1.  1. ...,  1.  1.  1.]\n",
        "  ..., \n",
        "  [ 1.  1.  1. ...,  1.  1.  1.]\n",
        "  [ 1.  1.  1. ...,  1.  1.  1.]\n",
        "  [ 1.  1.  1. ...,  1.  1.  1.]]\n",
        "\n",
        " ..., \n",
        " [[ 1.  1.  1. ...,  1.  1.  1.]\n",
        "  [ 1.  1.  1. ...,  1.  1.  1.]\n",
        "  [ 1.  1.  1. ...,  1.  1.  1.]\n",
        "  ..., \n",
        "  [ 1.  1.  1. ...,  1.  1.  1.]\n",
        "  [ 1.  1.  1. ...,  1.  1.  1.]\n",
        "  [ 1.  1.  1. ...,  1.  1.  1.]]\n",
        "\n",
        " [[ 1.  1.  1. ...,  1.  1.  1.]\n",
        "  [ 1.  1.  1. ...,  1.  1.  1.]\n",
        "  [ 1.  1.  1. ...,  1.  1.  1.]\n",
        "  ..., \n",
        "  [ 1.  1.  1. ...,  1.  1.  1.]\n",
        "  [ 1.  1.  1. ...,  1.  1.  1.]\n",
        "  [ 1.  1.  1. ...,  1.  1.  1.]]\n",
        "\n",
        " [[ 1.  1.  1. ...,  1.  1.  1.]\n",
        "  [ 1.  1.  1. ...,  1.  1.  1.]\n",
        "  [ 1.  1.  1. ...,  1.  1.  1.]\n",
        "  ..., \n",
        "  [ 1.  1.  1. ...,  1.  1.  1.]\n",
        "  [ 1.  1.  1. ...,  1.  1.  1.]\n",
        "  [ 1.  1.  1. ...,  1.  1.  1.]]]\n"
       ]
      }
     ],
     "prompt_number": 13
    },
    {
     "cell_type": "code",
     "collapsed": false,
     "input": [
      "#Defino el m\u00e9todo para recorrer todo el arreglo de unos \n",
      "#Me va a recorrer el arreglo para cada punto\n",
      "#Se define para las tres coordenadas \n",
      "def energia():\n",
      "    global lattice\n",
      "    return -sum(sum(lattice*(np.roll(lattice,1,axis=2)+ np.roll(lattice,-1,axis=2)+\\\n",
      "                             np.roll(lattice,1,axis=1)+ np.roll(lattice,-1,axis=1)+\\\n",
      "                             np.roll(lattice,1,axis=0)+ np.roll(lattice,-1,axis=0))))"
     ],
     "language": "python",
     "metadata": {},
     "outputs": [],
     "prompt_number": 10
    },
    {
     "cell_type": "code",
     "collapsed": false,
     "input": [
      "#Me calcula la energia en el sitio\n",
      "#Se a\u00f1ade la tercera coordenada\n",
      "def bloque(i,j,k):\n",
      "    global lattice\n",
      "    global N\n",
      "    return -(lattice[i,j,k]*(lattice[(i-1)%N,j,k] + lattice[(i+1)%N,j,k]+ lattice[i,(j+1)%N,k]+\\\n",
      "                                  lattice[i,(j-1)%N,k]+ lattice[i,j,(k+1)%N]+lattice[i,j,(k-1)%N]))"
     ],
     "language": "python",
     "metadata": {},
     "outputs": [],
     "prompt_number": 11
    },
    {
     "cell_type": "code",
     "collapsed": false,
     "input": [
      "bloque(3,4,3)"
     ],
     "language": "python",
     "metadata": {},
     "outputs": [
      {
       "metadata": {},
       "output_type": "pyout",
       "prompt_number": 12,
       "text": [
        "-6.0"
       ]
      }
     ],
     "prompt_number": 12
    },
    {
     "cell_type": "code",
     "collapsed": false,
     "input": [
      "bloque(7,4,3)"
     ],
     "language": "python",
     "metadata": {},
     "outputs": [
      {
       "metadata": {},
       "output_type": "pyout",
       "prompt_number": 14,
       "text": [
        "-6.0"
       ]
      }
     ],
     "prompt_number": 14
    },
    {
     "cell_type": "code",
     "collapsed": false,
     "input": [
      "#M\u00e9todo que calcula la energia de los spines vecinos dentro de mi malla\n",
      "def flipone():\n",
      "    global lattice\n",
      "    global beta\n",
      "    global N\n",
      "    \n",
      "    nx, ny, nz= np.random.randint(0,N),np.random.randint(0,N),np.random.randint(0,N) \n",
      "  \n",
      "    en_i=bloque(nx,ny,nz)\n",
      "   \n",
      "    en_f=-en_i\n",
      "    if en_f<en_i: \n",
      "        lattice[nx,ny,nz]*=-1\n",
      "        \n",
      "    elif np.random.random()<min(1,np.exp(-beta*(en_f-en_i))):\n",
      "        lattice[nx,ny,nz]*=-1 "
     ],
     "language": "python",
     "metadata": {},
     "outputs": [],
     "prompt_number": 16
    },
    {
     "cell_type": "code",
     "collapsed": false,
     "input": [
      "def magnetization():\n",
      "    global lattice\n",
      "    global N\n",
      "    return sum(sum(lattice))/N**2\n"
     ],
     "language": "python",
     "metadata": {},
     "outputs": [],
     "prompt_number": 17
    },
    {
     "cell_type": "code",
     "collapsed": false,
     "input": [
      "#Defino para realizar las magentizaciones para el n\u00famero de iteraciones \n",
      "magnetizaciones=[] \n",
      "lattice=np.ones((N,N,N))\n",
      "numIter=10**6 \n",
      "\n",
      "for temp in np.linspace(1.,8.,80):\n",
      "    print temp,\n",
      "    T=temp\n",
      "    beta=1./T\n",
      "    mag=[]\n",
      "    \n",
      "    for i in range(numIter):\n",
      "        flipone()\n",
      "        \n",
      "        if (i>numIter-10): \n",
      "            mag.append(magnetization())\n",
      "            \n",
      "    magnetizaciones.append([T,np.mean(mag)])\n",
      "magnetizaciones=np.array(magnetizaciones)"
     ],
     "language": "python",
     "metadata": {},
     "outputs": [
      {
       "output_type": "stream",
       "stream": "stdout",
       "text": [
        "1.0 "
       ]
      },
      {
       "output_type": "stream",
       "stream": "stdout",
       "text": [
        "1.08860759494 "
       ]
      },
      {
       "output_type": "stream",
       "stream": "stdout",
       "text": [
        "1.17721518987 "
       ]
      },
      {
       "output_type": "stream",
       "stream": "stdout",
       "text": [
        "1.26582278481 "
       ]
      },
      {
       "output_type": "stream",
       "stream": "stdout",
       "text": [
        "1.35443037975 "
       ]
      },
      {
       "output_type": "stream",
       "stream": "stdout",
       "text": [
        "1.44303797468 "
       ]
      },
      {
       "output_type": "stream",
       "stream": "stdout",
       "text": [
        "1.53164556962 "
       ]
      },
      {
       "output_type": "stream",
       "stream": "stdout",
       "text": [
        "1.62025316456 "
       ]
      },
      {
       "output_type": "stream",
       "stream": "stdout",
       "text": [
        "1.70886075949 "
       ]
      },
      {
       "output_type": "stream",
       "stream": "stdout",
       "text": [
        "1.79746835443 "
       ]
      },
      {
       "output_type": "stream",
       "stream": "stdout",
       "text": [
        "1.88607594937 "
       ]
      },
      {
       "output_type": "stream",
       "stream": "stdout",
       "text": [
        "1.9746835443 "
       ]
      },
      {
       "output_type": "stream",
       "stream": "stdout",
       "text": [
        "2.06329113924 "
       ]
      },
      {
       "output_type": "stream",
       "stream": "stdout",
       "text": [
        "2.15189873418 "
       ]
      },
      {
       "output_type": "stream",
       "stream": "stdout",
       "text": [
        "2.24050632911 "
       ]
      },
      {
       "output_type": "stream",
       "stream": "stdout",
       "text": [
        "2.32911392405 "
       ]
      },
      {
       "output_type": "stream",
       "stream": "stdout",
       "text": [
        "2.41772151899 "
       ]
      },
      {
       "output_type": "stream",
       "stream": "stdout",
       "text": [
        "2.50632911392 "
       ]
      },
      {
       "output_type": "stream",
       "stream": "stdout",
       "text": [
        "2.59493670886 "
       ]
      },
      {
       "output_type": "stream",
       "stream": "stdout",
       "text": [
        "2.6835443038 "
       ]
      },
      {
       "output_type": "stream",
       "stream": "stdout",
       "text": [
        "2.77215189873 "
       ]
      },
      {
       "output_type": "stream",
       "stream": "stdout",
       "text": [
        "2.86075949367 "
       ]
      },
      {
       "output_type": "stream",
       "stream": "stdout",
       "text": [
        "2.94936708861 "
       ]
      },
      {
       "output_type": "stream",
       "stream": "stdout",
       "text": [
        "3.03797468354 "
       ]
      },
      {
       "output_type": "stream",
       "stream": "stdout",
       "text": [
        "3.12658227848 "
       ]
      },
      {
       "output_type": "stream",
       "stream": "stdout",
       "text": [
        "3.21518987342 "
       ]
      },
      {
       "output_type": "stream",
       "stream": "stdout",
       "text": [
        "3.30379746835 "
       ]
      },
      {
       "output_type": "stream",
       "stream": "stdout",
       "text": [
        "3.39240506329 "
       ]
      },
      {
       "output_type": "stream",
       "stream": "stdout",
       "text": [
        "3.48101265823 "
       ]
      },
      {
       "output_type": "stream",
       "stream": "stdout",
       "text": [
        "3.56962025316 "
       ]
      },
      {
       "output_type": "stream",
       "stream": "stdout",
       "text": [
        "3.6582278481 "
       ]
      },
      {
       "output_type": "stream",
       "stream": "stdout",
       "text": [
        "3.74683544304 "
       ]
      },
      {
       "output_type": "stream",
       "stream": "stdout",
       "text": [
        "3.83544303797 "
       ]
      },
      {
       "output_type": "stream",
       "stream": "stdout",
       "text": [
        "3.92405063291 "
       ]
      },
      {
       "output_type": "stream",
       "stream": "stdout",
       "text": [
        "4.01265822785 "
       ]
      },
      {
       "output_type": "stream",
       "stream": "stdout",
       "text": [
        "4.10126582278 "
       ]
      },
      {
       "output_type": "stream",
       "stream": "stdout",
       "text": [
        "4.18987341772 "
       ]
      },
      {
       "output_type": "stream",
       "stream": "stdout",
       "text": [
        "4.27848101266 "
       ]
      },
      {
       "output_type": "stream",
       "stream": "stdout",
       "text": [
        "4.36708860759 "
       ]
      },
      {
       "output_type": "stream",
       "stream": "stdout",
       "text": [
        "4.45569620253 "
       ]
      },
      {
       "output_type": "stream",
       "stream": "stdout",
       "text": [
        "4.54430379747 "
       ]
      },
      {
       "output_type": "stream",
       "stream": "stdout",
       "text": [
        "4.63291139241 "
       ]
      },
      {
       "output_type": "stream",
       "stream": "stdout",
       "text": [
        "4.72151898734 "
       ]
      },
      {
       "output_type": "stream",
       "stream": "stdout",
       "text": [
        "4.81012658228 "
       ]
      },
      {
       "output_type": "stream",
       "stream": "stdout",
       "text": [
        "4.89873417722 "
       ]
      },
      {
       "output_type": "stream",
       "stream": "stdout",
       "text": [
        "4.98734177215 "
       ]
      },
      {
       "output_type": "stream",
       "stream": "stdout",
       "text": [
        "5.07594936709 "
       ]
      },
      {
       "output_type": "stream",
       "stream": "stdout",
       "text": [
        "5.16455696203 "
       ]
      },
      {
       "output_type": "stream",
       "stream": "stdout",
       "text": [
        "5.25316455696 "
       ]
      },
      {
       "output_type": "stream",
       "stream": "stdout",
       "text": [
        "5.3417721519 "
       ]
      },
      {
       "output_type": "stream",
       "stream": "stdout",
       "text": [
        "5.43037974684 "
       ]
      },
      {
       "output_type": "stream",
       "stream": "stdout",
       "text": [
        "5.51898734177 "
       ]
      },
      {
       "output_type": "stream",
       "stream": "stdout",
       "text": [
        "5.60759493671 "
       ]
      },
      {
       "output_type": "stream",
       "stream": "stdout",
       "text": [
        "5.69620253165 "
       ]
      },
      {
       "output_type": "stream",
       "stream": "stdout",
       "text": [
        "5.78481012658 "
       ]
      },
      {
       "output_type": "stream",
       "stream": "stdout",
       "text": [
        "5.87341772152 "
       ]
      },
      {
       "output_type": "stream",
       "stream": "stdout",
       "text": [
        "5.96202531646 "
       ]
      },
      {
       "output_type": "stream",
       "stream": "stdout",
       "text": [
        "6.05063291139 "
       ]
      },
      {
       "output_type": "stream",
       "stream": "stdout",
       "text": [
        "6.13924050633 "
       ]
      },
      {
       "output_type": "stream",
       "stream": "stdout",
       "text": [
        "6.22784810127 "
       ]
      },
      {
       "output_type": "stream",
       "stream": "stdout",
       "text": [
        "6.3164556962 "
       ]
      },
      {
       "output_type": "stream",
       "stream": "stdout",
       "text": [
        "6.40506329114 "
       ]
      },
      {
       "output_type": "stream",
       "stream": "stdout",
       "text": [
        "6.49367088608 "
       ]
      },
      {
       "output_type": "stream",
       "stream": "stdout",
       "text": [
        "6.58227848101 "
       ]
      },
      {
       "output_type": "stream",
       "stream": "stdout",
       "text": [
        "6.67088607595 "
       ]
      },
      {
       "output_type": "stream",
       "stream": "stdout",
       "text": [
        "6.75949367089 "
       ]
      },
      {
       "output_type": "stream",
       "stream": "stdout",
       "text": [
        "6.84810126582 "
       ]
      },
      {
       "output_type": "stream",
       "stream": "stdout",
       "text": [
        "6.93670886076 "
       ]
      },
      {
       "output_type": "stream",
       "stream": "stdout",
       "text": [
        "7.0253164557 "
       ]
      },
      {
       "output_type": "stream",
       "stream": "stdout",
       "text": [
        "7.11392405063 "
       ]
      },
      {
       "output_type": "stream",
       "stream": "stdout",
       "text": [
        "7.20253164557 "
       ]
      },
      {
       "output_type": "stream",
       "stream": "stdout",
       "text": [
        "7.29113924051 "
       ]
      },
      {
       "output_type": "stream",
       "stream": "stdout",
       "text": [
        "7.37974683544 "
       ]
      },
      {
       "output_type": "stream",
       "stream": "stdout",
       "text": [
        "7.46835443038 "
       ]
      },
      {
       "output_type": "stream",
       "stream": "stdout",
       "text": [
        "7.55696202532 "
       ]
      },
      {
       "output_type": "stream",
       "stream": "stdout",
       "text": [
        "7.64556962025 "
       ]
      },
      {
       "output_type": "stream",
       "stream": "stdout",
       "text": [
        "7.73417721519 "
       ]
      },
      {
       "output_type": "stream",
       "stream": "stdout",
       "text": [
        "7.82278481013 "
       ]
      },
      {
       "output_type": "stream",
       "stream": "stdout",
       "text": [
        "7.91139240506 "
       ]
      },
      {
       "output_type": "stream",
       "stream": "stdout",
       "text": [
        "8.0\n"
       ]
      }
     ],
     "prompt_number": 21
    },
    {
     "cell_type": "code",
     "collapsed": false,
     "input": [
      "#Grafico la magnetizaci\u00f3n para las 10^6 iteraciones\n",
      "plt.figure(figsize=(10,6))\n",
      "plt.plot(magnetizaciones[:,0],magnetizaciones[:,1],\"o-\" , color=\"teal\")\n",
      "plt.xlabel(\"T/J\")\n",
      "plt.ylabel(\"M/N\")\n",
      "plt.title(u\"Magnetizaci\u00f3n en el Modelo de Ising 3D Red C\u00fabica 20\") \n",
      "plt.axvline(4.51, color='m')\n",
      "plt.show()"
     ],
     "language": "python",
     "metadata": {},
     "outputs": [
      {
       "metadata": {},
       "output_type": "display_data",
       "png": "[encoded data removed]",
       "text": [
        "<matplotlib.figure.Figure at 0xb13a042c>"
       ]
      }
     ],
     "prompt_number": 27
    },
    {
     "cell_type": "code",
     "collapsed": false,
     "input": [],
     "language": "python",
     "metadata": {},
     "outputs": []
    }
   ],
   "metadata": {}
  }
 ]
}