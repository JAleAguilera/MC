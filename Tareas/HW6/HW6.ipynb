{
 "metadata": {
  "name": ""
 },
 "nbformat": 3,
 "nbformat_minor": 0,
 "worksheets": [
  {
   "cells": [
    {
     "cell_type": "code",
     "collapsed": false,
     "input": [
      "%pylab inline\n",
      "import numpy as np\n",
      "import sympy as sm\n",
      "import scipy as sp\n",
      "from sympy import *\n",
      "from scipy import interpolate\n",
      "from scipy.integrate import ode\n",
      "from scipy.integrate import odeint"
     ],
     "language": "python",
     "metadata": {},
     "outputs": [
      {
       "output_type": "stream",
       "stream": "stdout",
       "text": [
        "Populating the interactive namespace from numpy and matplotlib\n"
       ]
      }
     ],
     "prompt_number": 5
    },
    {
     "cell_type": "markdown",
     "metadata": {},
     "source": [
      "#Adam-Basforth"
     ]
    },
    {
     "cell_type": "code",
     "collapsed": false,
     "input": [
      "#Defino la funci\u00f3n que me recibe como par\u00e1metro \n",
      "#Defino los s\u00edmbolos para poder resolver el polinomio\n",
      "#De creaci\u00f3n emp\u00edrica uso el polinomio de Adam-Basforth para grado N-1 \n",
      "#Defino el polinomio \n",
      "\n",
      "init_printing(use_unicode=True)\n",
      "\n",
      "var\n",
      "\n",
      "def langrange(Num):\n",
      "    t=symbols('t')\n",
      "    n=symbols('n')\n",
      "    Fn=np.array([])\n",
      "    for i in range(0,Num,1):\n",
      "        if (Num)\n",
      "        Fn[i]=(fn%d (i+1))\n",
      "        \n",
      "    #Polinomio en general es \n",
      "        ti=Fn[i]*pf*(t-tn[i])\n",
      "    return polinomio"
     ],
     "language": "python",
     "metadata": {},
     "outputs": [
      {
       "ename": "SyntaxError",
       "evalue": "invalid syntax (<ipython-input-2-bd1d7f93035e>, line 15)",
       "output_type": "pyerr",
       "traceback": [
        "\u001b[0;36m  File \u001b[0;32m\"<ipython-input-2-bd1d7f93035e>\"\u001b[0;36m, line \u001b[0;32m15\u001b[0m\n\u001b[0;31m    if (Num)\u001b[0m\n\u001b[0m            ^\u001b[0m\n\u001b[0;31mSyntaxError\u001b[0m\u001b[0;31m:\u001b[0m invalid syntax\n"
       ]
      }
     ],
     "prompt_number": 2
    },
    {
     "cell_type": "code",
     "collapsed": false,
     "input": [
      "def adams():\n",
      "    integral = integrate(polinomio)\n",
      " "
     ],
     "language": "python",
     "metadata": {},
     "outputs": [],
     "prompt_number": 3
    },
    {
     "cell_type": "markdown",
     "metadata": {},
     "source": [
      "#Potencial Gravitacional - Ecuaci\u00f3n de Poisson "
     ]
    },
    {
     "cell_type": "code",
     "collapsed": false,
     "input": [
      "#Definimos \n",
      "#Densidad las unidad son (Kg/cm3)\n",
      "#La unidad del lado del cubo esta en (m)\n",
      "\n",
      "Ro=400.\n",
      "\n",
      "Lado=270\n",
      "\n",
      "e0=8.85e-12 # unidades SI\n",
      "\n",
      "q=1e-2 # en C\n",
      "\n",
      "Nl=3000 # 1 caja en la mitad 25 hacia la derecha y hacia la izquierda\n",
      "\n",
      "xmin=-Lado/2\n",
      "\n",
      "xmax= Lado/2\n",
      "\n",
      "ymin=-Lado/2\n",
      "\n",
      "ymax= Lado/2\n",
      "\n",
      "zmin=-Lado/2\n",
      "\n",
      "zmax=Lado/2\n",
      "\n",
      "NumIter=1000"
     ],
     "language": "python",
     "metadata": {},
     "outputs": [],
     "prompt_number": 26
    },
    {
     "cell_type": "markdown",
     "metadata": {},
     "source": [
      "###Condiciones de frontera de Dirichlet consiste en que debe estar en el contorno de la figura siendo \n",
      "\n",
      "$$\n",
      "f(x) = y(x)\n",
      "$$\n"
     ]
    },
    {
     "cell_type": "code",
     "collapsed": false,
     "input": [
      "#Declaro las coordenadas \n",
      "#Creo los mesgrid de cada coordenada\n",
      "\n",
      "xx=np.linspace(xmin,xmax,Nl)\n",
      "yy=np.linspace(-ymin,-ymax,Nl) \n",
      "zz=np.linspace(-zmin,zmax, Nl)\n",
      "\n",
      "xmesh=np.meshgrid(xx)\n",
      "ymesh=np.meshgrid(yy)\n",
      "\n",
      "dx=(xmax-xmin)/Nl\n",
      "dy=(ymax-ymin)/Nl\n",
      "dz=(zmax-zmin)/Nl\n",
      "\n",
      "Ro=400.\n",
      "\n",
      "densidad=np.zeros((Nl,Nl,Nl))\n",
      "\n",
      "a = np.ones((3,3,3))*4\n",
      "\n",
      "densidad[1:4,1:4,1:4] = a\n",
      "\n",
      "print densidad  "
     ],
     "language": "python",
     "metadata": {},
     "outputs": [
      {
       "output_type": "stream",
       "stream": "stdout",
       "text": [
        "[[[ 5026.54824574  5026.54824574  5026.54824574 ...,  5026.54824574\n",
        "    5026.54824574  5026.54824574]\n",
        "  [ 5026.54824574  5026.54824574  5026.54824574 ...,  5026.54824574\n",
        "    5026.54824574  5026.54824574]\n",
        "  [ 5026.54824574  5026.54824574  5026.54824574 ...,  5026.54824574\n",
        "    5026.54824574  5026.54824574]\n",
        "  ..., \n",
        "  [ 5026.54824574  5026.54824574  5026.54824574 ...,  5026.54824574\n",
        "    5026.54824574  5026.54824574]\n",
        "  [ 5026.54824574  5026.54824574  5026.54824574 ...,  5026.54824574\n",
        "    5026.54824574  5026.54824574]\n",
        "  [ 5026.54824574  5026.54824574  5026.54824574 ...,  5026.54824574\n",
        "    5026.54824574  5026.54824574]]\n",
        "\n",
        " [[ 5026.54824574  5026.54824574  5026.54824574 ...,  5026.54824574\n",
        "    5026.54824574  5026.54824574]\n",
        "  [ 5026.54824574  5026.54824574  5026.54824574 ...,  5026.54824574\n",
        "    5026.54824574  5026.54824574]\n",
        "  [ 5026.54824574  5026.54824574  5026.54824574 ...,  5026.54824574\n",
        "    5026.54824574  5026.54824574]\n",
        "  ..., \n",
        "  [ 5026.54824574  5026.54824574  5026.54824574 ...,  5026.54824574\n",
        "    5026.54824574  5026.54824574]\n",
        "  [ 5026.54824574  5026.54824574  5026.54824574 ...,  5026.54824574\n",
        "    5026.54824574  5026.54824574]\n",
        "  [ 5026.54824574  5026.54824574  5026.54824574 ...,  5026.54824574\n",
        "    5026.54824574  5026.54824574]]\n",
        "\n",
        " [[ 5026.54824574  5026.54824574  5026.54824574 ...,  5026.54824574\n",
        "    5026.54824574  5026.54824574]\n",
        "  [ 5026.54824574  5026.54824574  5026.54824574 ...,  5026.54824574\n",
        "    5026.54824574  5026.54824574]\n",
        "  [ 5026.54824574  5026.54824574  5026.54824574 ...,  5026.54824574\n",
        "    5026.54824574  5026.54824574]\n",
        "  ..., \n",
        "  [ 5026.54824574  5026.54824574  5026.54824574 ...,  5026.54824574\n",
        "    5026.54824574  5026.54824574]\n",
        "  [ 5026.54824574  5026.54824574  5026.54824574 ...,  5026.54824574\n",
        "    5026.54824574  5026.54824574]\n",
        "  [ 5026.54824574  5026.54824574  5026.54824574 ...,  5026.54824574\n",
        "    5026.54824574  5026.54824574]]\n",
        "\n",
        " ..., \n",
        " [[ 5026.54824574  5026.54824574  5026.54824574 ...,  5026.54824574\n",
        "    5026.54824574  5026.54824574]\n",
        "  [ 5026.54824574  5026.54824574  5026.54824574 ...,  5026.54824574\n",
        "    5026.54824574  5026.54824574]\n",
        "  [ 5026.54824574  5026.54824574  5026.54824574 ...,  5026.54824574\n",
        "    5026.54824574  5026.54824574]\n",
        "  ..., \n",
        "  [ 5026.54824574  5026.54824574  5026.54824574 ...,  5026.54824574\n",
        "    5026.54824574  5026.54824574]\n",
        "  [ 5026.54824574  5026.54824574  5026.54824574 ...,  5026.54824574\n",
        "    5026.54824574  5026.54824574]\n",
        "  [ 5026.54824574  5026.54824574  5026.54824574 ...,  5026.54824574\n",
        "    5026.54824574  5026.54824574]]\n",
        "\n",
        " [[ 5026.54824574  5026.54824574  5026.54824574 ...,  5026.54824574\n",
        "    5026.54824574  5026.54824574]\n",
        "  [ 5026.54824574  5026.54824574  5026.54824574 ...,  5026.54824574\n",
        "    5026.54824574  5026.54824574]\n",
        "  [ 5026.54824574  5026.54824574  5026.54824574 ...,  5026.54824574\n",
        "    5026.54824574  5026.54824574]\n",
        "  ..., \n",
        "  [ 5026.54824574  5026.54824574  5026.54824574 ...,  5026.54824574\n",
        "    5026.54824574  5026.54824574]\n",
        "  [ 5026.54824574  5026.54824574  5026.54824574 ...,  5026.54824574\n",
        "    5026.54824574  5026.54824574]\n",
        "  [ 5026.54824574  5026.54824574  5026.54824574 ...,  5026.54824574\n",
        "    5026.54824574  5026.54824574]]\n",
        "\n",
        " [[ 5026.54824574  5026.54824574  5026.54824574 ...,  5026.54824574\n",
        "    5026.54824574  5026.54824574]\n",
        "  [ 5026.54824574  5026.54824574  5026.54824574 ...,  5026.54824574\n",
        "    5026.54824574  5026.54824574]\n",
        "  [ 5026.54824574  5026.54824574  5026.54824574 ...,  5026.54824574\n",
        "    5026.54824574  5026.54824574]\n",
        "  ..., \n",
        "  [ 5026.54824574  5026.54824574  5026.54824574 ...,  5026.54824574\n",
        "    5026.54824574  5026.54824574]\n",
        "  [ 5026.54824574  5026.54824574  5026.54824574 ...,  5026.54824574\n",
        "    5026.54824574  5026.54824574]\n",
        "  [ 5026.54824574  5026.54824574  5026.54824574 ...,  5026.54824574\n",
        "    5026.54824574  5026.54824574]]]\n"
       ]
      }
     ],
     "prompt_number": 18
    },
    {
     "cell_type": "code",
     "collapsed": false,
     "input": [
      "\n"
     ],
     "language": "python",
     "metadata": {},
     "outputs": [
      {
       "metadata": {},
       "output_type": "pyout",
       "prompt_number": 25,
       "text": [
        "array([[[ 0.,  0.,  0.,  0.,  0.],\n",
        "        [ 0.,  0.,  0.,  0.,  0.],\n",
        "        [ 0.,  0.,  0.,  0.,  0.],\n",
        "        [ 0.,  0.,  0.,  0.,  0.],\n",
        "        [ 0.,  0.,  0.,  0.,  0.]],\n",
        "\n",
        "       [[ 0.,  0.,  0.,  0.,  0.],\n",
        "        [ 0.,  4.,  4.,  4.,  0.],\n",
        "        [ 0.,  4.,  4.,  4.,  0.],\n",
        "        [ 0.,  4.,  4.,  4.,  0.],\n",
        "        [ 0.,  0.,  0.,  0.,  0.]],\n",
        "\n",
        "       [[ 0.,  0.,  0.,  0.,  0.],\n",
        "        [ 0.,  4.,  4.,  4.,  0.],\n",
        "        [ 0.,  4.,  4.,  4.,  0.],\n",
        "        [ 0.,  4.,  4.,  4.,  0.],\n",
        "        [ 0.,  0.,  0.,  0.,  0.]],\n",
        "\n",
        "       [[ 0.,  0.,  0.,  0.,  0.],\n",
        "        [ 0.,  4.,  4.,  4.,  0.],\n",
        "        [ 0.,  4.,  4.,  4.,  0.],\n",
        "        [ 0.,  4.,  4.,  4.,  0.],\n",
        "        [ 0.,  0.,  0.,  0.,  0.]],\n",
        "\n",
        "       [[ 0.,  0.,  0.,  0.,  0.],\n",
        "        [ 0.,  0.,  0.,  0.,  0.],\n",
        "        [ 0.,  0.,  0.,  0.,  0.],\n",
        "        [ 0.,  0.,  0.,  0.,  0.],\n",
        "        [ 0.,  0.,  0.,  0.,  0.]]])"
       ]
      }
     ],
     "prompt_number": 25
    },
    {
     "cell_type": "code",
     "collapsed": false,
     "input": [
      "#Creando un cuadrado dentro de mi campo\n",
      "\n",
      "campo=np.zeros((Nl,Nl))\n",
      "\n",
      "cuadrado=arregloCeros\n",
      "for i in range(496,528):\n",
      "    for j in range(496,528):\n",
      "        for k in range\n",
      "            cuadrado[i][j]=1\n",
      "print cuadrado\n",
      "\n",
      "imshow(cuadrado)"
     ],
     "language": "python",
     "metadata": {},
     "outputs": [
      {
       "output_type": "stream",
       "stream": "stdout",
       "text": [
        "[[ 0.  0.  0. ...,  0.  0.  0.]\n",
        " [ 0.  0.  0. ...,  0.  0.  0.]\n",
        " [ 0.  0.  0. ...,  0.  0.  0.]\n",
        " ..., \n",
        " [ 0.  0.  0. ...,  0.  0.  0.]\n",
        " [ 0.  0.  0. ...,  0.  0.  0.]\n",
        " [ 0.  0.  0. ...,  0.  0.  0.]]\n"
       ]
      },
      {
       "metadata": {},
       "output_type": "pyout",
       "prompt_number": 14,
       "text": [
        "<matplotlib.image.AxesImage at 0xafd7e86c>"
       ]
      },
      {
       "metadata": {},
       "output_type": "display_data",
       "png": "[encoded data removed]",
       "text": [
        "<matplotlib.figure.Figure at 0xaff713ec>"
       ]
      }
     ],
     "prompt_number": 14
    },
    {
     "cell_type": "code",
     "collapsed": false,
     "input": [],
     "language": "python",
     "metadata": {},
     "outputs": []
    }
   ],
   "metadata": {}
  }
 ]
}