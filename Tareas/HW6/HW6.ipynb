{
 "metadata": {
  "name": ""
 },
 "nbformat": 3,
 "nbformat_minor": 0,
 "worksheets": [
  {
   "cells": [
    {
     "cell_type": "code",
     "collapsed": false,
     "input": [
      "%pylab inline\n",
      "import matplotlib.pyplot as plt\n",
      "import numpy as np\n",
      "import sympy as sm\n",
      "import scipy as sp\n",
      "from sympy import *\n",
      "from scipy import interpolate\n",
      "from scipy.integrate import ode\n",
      "from scipy.integrate import odeint"
     ],
     "language": "python",
     "metadata": {},
     "outputs": [
      {
       "output_type": "stream",
       "stream": "stdout",
       "text": [
        "Populating the interactive namespace from numpy and matplotlib\n"
       ]
      },
      {
       "output_type": "stream",
       "stream": "stderr",
       "text": [
        "WARNING: pylab import has clobbered these variables: ['prod', 'Circle', 'power', 'diag', 'sinh', 'trunc', 'binomial', 'plot', 'eye', 'det', 'tan', 'product', 'roots', 'vectorize', 'sin', 'plotting', 'zeros', 'cosh', 'conjugate', 'take', 'trace', 'beta', 'ones', 'transpose', 'cos', 'interactive', 'solve', 'diff', 'invert', 'tanh', 'Polygon', 'reshape', 'sqrt', 'floor', 'source', 'add', 'multinomial', 'test', 'poly', 'mod', 'sign', 'gamma', 'log', 'var', 'seterr', 'flatten', 'nan', 'pi', 'exp']\n",
        "`%pylab --no-import-all` prevents importing * from pylab and numpy\n"
       ]
      }
     ],
     "prompt_number": 43
    },
    {
     "cell_type": "markdown",
     "metadata": {},
     "source": [
      "#Adam-Basforth"
     ]
    },
    {
     "cell_type": "code",
     "collapsed": false,
     "input": [
      "#Defino la funci\u00f3n que me recibe como par\u00e1metro \n",
      "#Defino los s\u00edmbolos para poder resolver el polinomio\n",
      "#De creaci\u00f3n emp\u00edrica uso el polinomio de Adam-Basforth (Con inspiraci\u00f3n de un HandsON realizado en clase) \n",
      "#Defino las variables T1 y T2 con la herramienta var\n",
      "\n",
      "init_printing(use_unicode=True)\n",
      "\n",
      "def Lagrange(Num):\n",
      "    fu=0\n",
      "    #f=var('f')\n",
      "    t=var('t')\n",
      "    for i in range(Num):\n",
      "        nn=1\n",
      "        for j in range(Num):\n",
      "            if i != j:\n",
      "                t1 = var('t%d'%j)\n",
      "                t2 = var('t%d'%i)\n",
      "                nn *= ((t - t1)/(t2 - t1))\n",
      "        fu+=nn*var('f%d'%i)\n",
      "    return fu"
     ],
     "language": "python",
     "metadata": {},
     "outputs": [],
     "prompt_number": 44
    },
    {
     "cell_type": "code",
     "collapsed": false,
     "input": [
      "#Funci\u00f3n de orden cero (0)\n",
      "Lagrange(0)"
     ],
     "language": "python",
     "metadata": {},
     "outputs": [
      {
       "latex": [
        "$$0$$"
       ],
       "metadata": {},
       "output_type": "pyout",
       "png": "[encoded data removed]",
       "prompt_number": 45,
       "text": [
        "0"
       ]
      }
     ],
     "prompt_number": 45
    },
    {
     "cell_type": "code",
     "collapsed": false,
     "input": [
      "#Funci\u00f3n de orden primero (1)\n",
      "Lagrange(1)"
     ],
     "language": "python",
     "metadata": {},
     "outputs": [
      {
       "latex": [
        "$$f_{0}$$"
       ],
       "metadata": {},
       "output_type": "pyout",
       "png": "[encoded data removed]",
       "prompt_number": 46,
       "text": [
        "f\u2080"
       ]
      }
     ],
     "prompt_number": 46
    },
    {
     "cell_type": "code",
     "collapsed": false,
     "input": [
      "#Funci\u00f3n de orden dos (2)\n",
      "Lagrange(2)"
     ],
     "language": "python",
     "metadata": {},
     "outputs": [
      {
       "latex": [
        "$$\\frac{f_{0} \\left(t - t_{1}\\right)}{t_{0} - t_{1}} + \\frac{f_{1} \\left(t - t_{0}\\right)}{- t_{0} + t_{1}}$$"
       ],
       "metadata": {},
       "output_type": "pyout",
       "png": "[encoded data removed]",
       "prompt_number": 47,
       "text": [
        "f\u2080\u22c5(t - t\u2081)   f\u2081\u22c5(t - t\u2080)\n",
        "\u2500\u2500\u2500\u2500\u2500\u2500\u2500\u2500\u2500\u2500\u2500 + \u2500\u2500\u2500\u2500\u2500\u2500\u2500\u2500\u2500\u2500\u2500\n",
        "  t\u2080 - t\u2081       -t\u2080 + t\u2081 "
       ]
      }
     ],
     "prompt_number": 47
    },
    {
     "cell_type": "code",
     "collapsed": false,
     "input": [
      "#Funci\u00f3n de orden tres (3)\n",
      "Lagrange(3)"
     ],
     "language": "python",
     "metadata": {},
     "outputs": [
      {
       "latex": [
        "$$\\frac{f_{0} \\left(t - t_{1}\\right) \\left(t - t_{2}\\right)}{\\left(t_{0} - t_{1}\\right) \\left(t_{0} - t_{2}\\right)} + \\frac{f_{1} \\left(t - t_{0}\\right) \\left(t - t_{2}\\right)}{\\left(- t_{0} + t_{1}\\right) \\left(t_{1} - t_{2}\\right)} + \\frac{f_{2} \\left(t - t_{0}\\right) \\left(t - t_{1}\\right)}{\\left(- t_{0} + t_{2}\\right) \\left(- t_{1} + t_{2}\\right)}$$"
       ],
       "metadata": {},
       "output_type": "pyout",
       "png": "[encoded data removed]",
       "prompt_number": 48,
       "text": [
        "f\u2080\u22c5(t - t\u2081)\u22c5(t - t\u2082)   f\u2081\u22c5(t - t\u2080)\u22c5(t - t\u2082)    f\u2082\u22c5(t - t\u2080)\u22c5(t - t\u2081)\n",
        "\u2500\u2500\u2500\u2500\u2500\u2500\u2500\u2500\u2500\u2500\u2500\u2500\u2500\u2500\u2500\u2500\u2500\u2500\u2500\u2500 + \u2500\u2500\u2500\u2500\u2500\u2500\u2500\u2500\u2500\u2500\u2500\u2500\u2500\u2500\u2500\u2500\u2500\u2500\u2500\u2500 + \u2500\u2500\u2500\u2500\u2500\u2500\u2500\u2500\u2500\u2500\u2500\u2500\u2500\u2500\u2500\u2500\u2500\u2500\u2500\u2500\u2500\n",
        "(t\u2080 - t\u2081)\u22c5(t\u2080 - t\u2082)    (-t\u2080 + t\u2081)\u22c5(t\u2081 - t\u2082)   (-t\u2080 + t\u2082)\u22c5(-t\u2081 + t\u2082)"
       ]
      }
     ],
     "prompt_number": 48
    },
    {
     "cell_type": "code",
     "collapsed": false,
     "input": [
      "#Funci\u00f3n de orden cuatro (4)\n",
      "Lagrange(4)"
     ],
     "language": "python",
     "metadata": {},
     "outputs": [
      {
       "latex": [
        "$$\\frac{f_{0} \\left(t - t_{1}\\right) \\left(t - t_{2}\\right) \\left(t - t_{3}\\right)}{\\left(t_{0} - t_{1}\\right) \\left(t_{0} - t_{2}\\right) \\left(t_{0} - t_{3}\\right)} + \\frac{f_{1} \\left(t - t_{0}\\right) \\left(t - t_{2}\\right) \\left(t - t_{3}\\right)}{\\left(- t_{0} + t_{1}\\right) \\left(t_{1} - t_{2}\\right) \\left(t_{1} - t_{3}\\right)} + \\frac{f_{2} \\left(t - t_{0}\\right) \\left(t - t_{1}\\right) \\left(t - t_{3}\\right)}{\\left(- t_{0} + t_{2}\\right) \\left(- t_{1} + t_{2}\\right) \\left(t_{2} - t_{3}\\right)} + \\frac{f_{3} \\left(t - t_{0}\\right) \\left(t - t_{1}\\right) \\left(t - t_{2}\\right)}{\\left(- t_{0} + t_{3}\\right) \\left(- t_{1} + t_{3}\\right) \\left(- t_{2} + t_{3}\\right)}$$"
       ],
       "metadata": {},
       "output_type": "pyout",
       "png": "[encoded data removed]",
       "prompt_number": 49,
       "text": [
        "f\u2080\u22c5(t - t\u2081)\u22c5(t - t\u2082)\u22c5(t - t\u2083)   f\u2081\u22c5(t - t\u2080)\u22c5(t - t\u2082)\u22c5(t - t\u2083)     f\u2082\u22c5(t - t\u2080)\u22c5\n",
        "\u2500\u2500\u2500\u2500\u2500\u2500\u2500\u2500\u2500\u2500\u2500\u2500\u2500\u2500\u2500\u2500\u2500\u2500\u2500\u2500\u2500\u2500\u2500\u2500\u2500\u2500\u2500\u2500\u2500 + \u2500\u2500\u2500\u2500\u2500\u2500\u2500\u2500\u2500\u2500\u2500\u2500\u2500\u2500\u2500\u2500\u2500\u2500\u2500\u2500\u2500\u2500\u2500\u2500\u2500\u2500\u2500\u2500\u2500\u2500 + \u2500\u2500\u2500\u2500\u2500\u2500\u2500\u2500\u2500\u2500\u2500\u2500\u2500\n",
        "(t\u2080 - t\u2081)\u22c5(t\u2080 - t\u2082)\u22c5(t\u2080 - t\u2083)   (-t\u2080 + t\u2081)\u22c5(t\u2081 - t\u2082)\u22c5(t\u2081 - t\u2083)   (-t\u2080 + t\u2082)\u22c5(-\n",
        "\n",
        "(t - t\u2081)\u22c5(t - t\u2083)     f\u2083\u22c5(t - t\u2080)\u22c5(t - t\u2081)\u22c5(t - t\u2082)  \n",
        "\u2500\u2500\u2500\u2500\u2500\u2500\u2500\u2500\u2500\u2500\u2500\u2500\u2500\u2500\u2500\u2500\u2500\u2500 + \u2500\u2500\u2500\u2500\u2500\u2500\u2500\u2500\u2500\u2500\u2500\u2500\u2500\u2500\u2500\u2500\u2500\u2500\u2500\u2500\u2500\u2500\u2500\u2500\u2500\u2500\u2500\u2500\u2500\u2500\u2500\u2500\n",
        "t\u2081 + t\u2082)\u22c5(t\u2082 - t\u2083)   (-t\u2080 + t\u2083)\u22c5(-t\u2081 + t\u2083)\u22c5(-t\u2082 + t\u2083)"
       ]
      }
     ],
     "prompt_number": 49
    },
    {
     "cell_type": "code",
     "collapsed": false,
     "input": [
      "#Defino la funci\u00f3n de adams\n",
      "#Defino las variables con la ayuda de SYmbols y un arreglo de SYmbols para ir generando el for \n",
      "#Traigo mi funci\u00f3n Lagrange como mi polinomio\n",
      "#Con la ayuda de subs voy reescribiendo el polinomio\n",
      "\n",
      "init_printing(use_unicode=True)\n",
      "\n",
      "def Adams(Num):\n",
      "    \n",
      "    Polinomio=Lagrange(Num)\n",
      "    t=symbols('t:%d' %Num)\n",
      "    arraySim=[]\n",
      "    t2=symbols('t')\n",
      "    h=symbols('h')\n",
      "    \n",
      "    for i in range(Num):\n",
      "        \n",
      "        Actual= (t[i],t[0] - i*h)\n",
      "        arraySim.append(Actual)\n",
      "    \n",
      "    final = integrate(Polinomio,(t2, t[i], t[0]+ h))\n",
      "    final2 = final.subs(arraySim)\n",
      "    final3= sm.simplify(final2)\n",
      "        \n",
      "    return final3"
     ],
     "language": "python",
     "metadata": {},
     "outputs": [],
     "prompt_number": 64
    },
    {
     "cell_type": "code",
     "collapsed": false,
     "input": [
      "#Funci\u00f3n de orden uno (1)\n",
      "Adams(1)"
     ],
     "language": "python",
     "metadata": {},
     "outputs": [
      {
       "latex": [
        "$$f_{0} h$$"
       ],
       "metadata": {},
       "output_type": "pyout",
       "png": "[encoded data removed]",
       "prompt_number": 65,
       "text": [
        "f\u2080\u22c5h"
       ]
      }
     ],
     "prompt_number": 65
    },
    {
     "cell_type": "code",
     "collapsed": false,
     "input": [
      "#Funci\u00f3n de orden uno (2)\n",
      "Adams(2)"
     ],
     "language": "python",
     "metadata": {},
     "outputs": [
      {
       "latex": [
        "$$2 f_{0} h$$"
       ],
       "metadata": {},
       "output_type": "pyout",
       "png": "[encoded data removed]",
       "prompt_number": 66,
       "text": [
        "2\u22c5f\u2080\u22c5h"
       ]
      }
     ],
     "prompt_number": 66
    },
    {
     "cell_type": "code",
     "collapsed": false,
     "input": [
      "#Funci\u00f3n de orden uno (3)\n",
      "Adams(3)"
     ],
     "language": "python",
     "metadata": {},
     "outputs": [
      {
       "latex": [
        "$$\\frac{3 h}{4} \\left(3 f_{0} + f_{2}\\right)$$"
       ],
       "metadata": {},
       "output_type": "pyout",
       "png": "[encoded data removed]",
       "prompt_number": 67,
       "text": [
        "3\u22c5h\u22c5(3\u22c5f\u2080 + f\u2082)\n",
        "\u2500\u2500\u2500\u2500\u2500\u2500\u2500\u2500\u2500\u2500\u2500\u2500\u2500\u2500\u2500\n",
        "       4       "
       ]
      }
     ],
     "prompt_number": 67
    },
    {
     "cell_type": "code",
     "collapsed": false,
     "input": [
      "#Funci\u00f3n de orden uno (4)\n",
      "Adams(4)"
     ],
     "language": "python",
     "metadata": {},
     "outputs": [
      {
       "latex": [
        "$$\\frac{4 h}{3} \\left(2 f_{0} - f_{1} + 2 f_{2}\\right)$$"
       ],
       "metadata": {},
       "output_type": "pyout",
       "png": "[encoded data removed]",
       "prompt_number": 68,
       "text": [
        "4\u22c5h\u22c5(2\u22c5f\u2080 - f\u2081 + 2\u22c5f\u2082)\n",
        "\u2500\u2500\u2500\u2500\u2500\u2500\u2500\u2500\u2500\u2500\u2500\u2500\u2500\u2500\u2500\u2500\u2500\u2500\u2500\u2500\u2500\u2500\n",
        "          3           "
       ]
      }
     ],
     "prompt_number": 68
    },
    {
     "cell_type": "markdown",
     "metadata": {},
     "source": [
      "#Potencial Gravitacional - Ecuaci\u00f3n de Poisson "
     ]
    },
    {
     "cell_type": "code",
     "collapsed": false,
     "input": [
      "#Definimos todas las constantes necesarias\n",
      "#Densidad las unidad son (Kg/cm3)\n",
      "#La unidad del lado del cubo esta en (m)\n",
      "#Todas las unidades de as constantes se encuentran en SI (Sistema Internacional)\n",
      "\n",
      "M=30\n",
      "Ro=400.\n",
      "\n",
      "Lado=270\n",
      "\n",
      "e0=8.85e-12 \n",
      "\n",
      "q=1e-2 \n",
      "\n",
      "Nl=101\n",
      "\n",
      "xmin=-Lado/2\n",
      "\n",
      "xmax= Lado/2\n",
      "\n",
      "ymin=-Lado/2\n",
      "\n",
      "ymax= Lado/2\n",
      "\n",
      "zmin=-Lado/2\n",
      "\n",
      "zmax=Lado/2\n",
      "\n",
      "NumIter=2\n",
      "\n",
      "G=6.674e-11"
     ],
     "language": "python",
     "metadata": {},
     "outputs": []
    },
    {
     "cell_type": "markdown",
     "metadata": {},
     "source": [
      "###Condiciones de frontera de Dirichlet consiste en que debe estar en el contorno de la figura siendo \n",
      "\n",
      "$$\n",
      "f(x) = y(x)\n",
      "$$\n"
     ]
    },
    {
     "cell_type": "code",
     "collapsed": false,
     "input": [
      "#Declaro las coordenadas en las tres dimesiones\n",
      "#Creo los mesgrid de cada coordenada (x y z)\n",
      "#La variable que se llama constante pertenece al potencial gravitacional\n",
      "#Creo el cuadrado con la ayuda de np.ones y np.zeros\n",
      "#Mi cubo es de 10x10x10 y esta fijado en el centro de la malla de 100x100x100\n",
      "\n",
      "xx=np.linspace(xmin,xmax,Nl)\n",
      "yy=np.linspace(ymin,ymax,Nl) \n",
      "zz=np.linspace(zmin,zmax, Nl)\n",
      "\n",
      "x,y,z=np.meshgrid(xx,yy,zz)\n",
      "\n",
      "dx=(xmax-xmin)/Nl\n",
      "dy=(ymax-ymin)/Nl\n",
      "dz=(zmax-zmin)/Nl\n",
      "\n",
      "constante=Ro*np.pi*4*G\n",
      "\n",
      "densidad=np.zeros((Nl,Nl,Nl))\n",
      "\n",
      "cuadrado = np.ones((10,10,10))\n",
      "cuadradoEn400= cuadrado*constante\n",
      "cuafradoF=np.array(cuadradoEn400*4.*pi*G*M**2)\n",
      "\n",
      "densidad[45:55,45:55,45:55] = cuadradoEn400\n",
      "\n",
      "\n",
      "densidadf=np.array(densidad*4.*pi*G*M**2)"
     ],
     "language": "python",
     "metadata": {},
     "outputs": []
    },
    {
     "cell_type": "code",
     "collapsed": false,
     "input": [
      "#Se implementa el m\u00e9todo de relaci\u00f3n, inspirado en el cuaderno de Juan David Lizarazo\n",
      "X=x*x\n",
      "Y=y*y\n",
      "Z=z*z\n",
      "r=np.sqrt(X+Y+Z)\n",
      "#Se define el potencial\n",
      "Pot=-G*Ro*M**3/r\n",
      "#print Pot\n",
      "for __ in range(NumIter):\n",
      "    Pot=1/6.*(np.roll(Pot,1,axis=0)+\n",
      "              np.roll(Pot,-1,axis=0)+\n",
      "              np.roll(Pot,1,axis=1)+\n",
      "              np.roll(Pot,-1,axis=1)+\n",
      "              np.roll(Pot,1,axis= 2)+\n",
      "              np.roll(Pot,-1,axis= 2)-\n",
      "              densidadf)\n",
      "    Pot[0]=0.\n",
      "    Pot[-1]=0.\n",
      "    Pot[:,0]=0.\n",
      "    Pot[:,-1]=0.\n",
      "    Pot[:,:,0]=0.\n",
      "    Pot[:,:,-1]=0."
     ],
     "language": "python",
     "metadata": {},
     "outputs": [
      {
       "output_type": "stream",
       "stream": "stdout",
       "text": [
        "[[[ -3.08258856e-06  -3.10313730e-06  -3.12367478e-06 ...,  -3.12367478e-06\n",
        "    -3.10313730e-06  -3.08258856e-06]\n",
        "  [ -3.10313730e-06  -3.12410254e-06  -3.14506193e-06 ...,  -3.14506193e-06\n",
        "    -3.12410254e-06  -3.10313730e-06]\n",
        "  [ -3.12367478e-06  -3.14506193e-06  -3.16644890e-06 ...,  -3.16644890e-06\n",
        "    -3.14506193e-06  -3.12367478e-06]\n",
        "  ..., \n",
        "  [ -3.12367478e-06  -3.14506193e-06  -3.16644890e-06 ...,  -3.16644890e-06\n",
        "    -3.14506193e-06  -3.12367478e-06]\n",
        "  [ -3.10313730e-06  -3.12410254e-06  -3.14506193e-06 ...,  -3.14506193e-06\n",
        "    -3.12410254e-06  -3.10313730e-06]\n",
        "  [ -3.08258856e-06  -3.10313730e-06  -3.12367478e-06 ...,  -3.12367478e-06\n",
        "    -3.10313730e-06  -3.08258856e-06]]\n",
        "\n",
        " [[ -3.10313730e-06  -3.12410254e-06  -3.14506193e-06 ...,  -3.14506193e-06\n",
        "    -3.12410254e-06  -3.10313730e-06]\n",
        "  [ -3.12410254e-06  -3.14549853e-06  -3.16689447e-06 ...,  -3.16689447e-06\n",
        "    -3.14549853e-06  -3.12410254e-06]\n",
        "  [ -3.14506193e-06  -3.16689447e-06  -3.18873305e-06 ...,  -3.18873305e-06\n",
        "    -3.16689447e-06  -3.14506193e-06]\n",
        "  ..., \n",
        "  [ -3.14506193e-06  -3.16689447e-06  -3.18873305e-06 ...,  -3.18873305e-06\n",
        "    -3.16689447e-06  -3.14506193e-06]\n",
        "  [ -3.12410254e-06  -3.14549853e-06  -3.16689447e-06 ...,  -3.16689447e-06\n",
        "    -3.14549853e-06  -3.12410254e-06]\n",
        "  [ -3.10313730e-06  -3.12410254e-06  -3.14506193e-06 ...,  -3.14506193e-06\n",
        "    -3.12410254e-06  -3.10313730e-06]]\n",
        "\n",
        " [[ -3.12367478e-06  -3.14506193e-06  -3.16644890e-06 ...,  -3.16644890e-06\n",
        "    -3.14506193e-06  -3.12367478e-06]\n",
        "  [ -3.14506193e-06  -3.16689447e-06  -3.18873305e-06 ...,  -3.18873305e-06\n",
        "    -3.16689447e-06  -3.14506193e-06]\n",
        "  [ -3.16644890e-06  -3.18873305e-06  -3.21102975e-06 ...,  -3.21102975e-06\n",
        "    -3.18873305e-06  -3.16644890e-06]\n",
        "  ..., \n",
        "  [ -3.16644890e-06  -3.18873305e-06  -3.21102975e-06 ...,  -3.21102975e-06\n",
        "    -3.18873305e-06  -3.16644890e-06]\n",
        "  [ -3.14506193e-06  -3.16689447e-06  -3.18873305e-06 ...,  -3.18873305e-06\n",
        "    -3.16689447e-06  -3.14506193e-06]\n",
        "  [ -3.12367478e-06  -3.14506193e-06  -3.16644890e-06 ...,  -3.16644890e-06\n",
        "    -3.14506193e-06  -3.12367478e-06]]\n",
        "\n",
        " ..., \n",
        " [[ -3.12367478e-06  -3.14506193e-06  -3.16644890e-06 ...,  -3.16644890e-06\n",
        "    -3.14506193e-06  -3.12367478e-06]\n",
        "  [ -3.14506193e-06  -3.16689447e-06  -3.18873305e-06 ...,  -3.18873305e-06\n",
        "    -3.16689447e-06  -3.14506193e-06]\n",
        "  [ -3.16644890e-06  -3.18873305e-06  -3.21102975e-06 ...,  -3.21102975e-06\n",
        "    -3.18873305e-06  -3.16644890e-06]\n",
        "  ..., \n",
        "  [ -3.16644890e-06  -3.18873305e-06  -3.21102975e-06 ...,  -3.21102975e-06\n",
        "    -3.18873305e-06  -3.16644890e-06]\n",
        "  [ -3.14506193e-06  -3.16689447e-06  -3.18873305e-06 ...,  -3.18873305e-06\n",
        "    -3.16689447e-06  -3.14506193e-06]\n",
        "  [ -3.12367478e-06  -3.14506193e-06  -3.16644890e-06 ...,  -3.16644890e-06\n",
        "    -3.14506193e-06  -3.12367478e-06]]\n",
        "\n",
        " [[ -3.10313730e-06  -3.12410254e-06  -3.14506193e-06 ...,  -3.14506193e-06\n",
        "    -3.12410254e-06  -3.10313730e-06]\n",
        "  [ -3.12410254e-06  -3.14549853e-06  -3.16689447e-06 ...,  -3.16689447e-06\n",
        "    -3.14549853e-06  -3.12410254e-06]\n",
        "  [ -3.14506193e-06  -3.16689447e-06  -3.18873305e-06 ...,  -3.18873305e-06\n",
        "    -3.16689447e-06  -3.14506193e-06]\n",
        "  ..., \n",
        "  [ -3.14506193e-06  -3.16689447e-06  -3.18873305e-06 ...,  -3.18873305e-06\n",
        "    -3.16689447e-06  -3.14506193e-06]\n",
        "  [ -3.12410254e-06  -3.14549853e-06  -3.16689447e-06 ...,  -3.16689447e-06\n",
        "    -3.14549853e-06  -3.12410254e-06]\n",
        "  [ -3.10313730e-06  -3.12410254e-06  -3.14506193e-06 ...,  -3.14506193e-06\n",
        "    -3.12410254e-06  -3.10313730e-06]]\n",
        "\n",
        " [[ -3.08258856e-06  -3.10313730e-06  -3.12367478e-06 ...,  -3.12367478e-06\n",
        "    -3.10313730e-06  -3.08258856e-06]\n",
        "  [ -3.10313730e-06  -3.12410254e-06  -3.14506193e-06 ...,  -3.14506193e-06\n",
        "    -3.12410254e-06  -3.10313730e-06]\n",
        "  [ -3.12367478e-06  -3.14506193e-06  -3.16644890e-06 ...,  -3.16644890e-06\n",
        "    -3.14506193e-06  -3.12367478e-06]\n",
        "  ..., \n",
        "  [ -3.12367478e-06  -3.14506193e-06  -3.16644890e-06 ...,  -3.16644890e-06\n",
        "    -3.14506193e-06  -3.12367478e-06]\n",
        "  [ -3.10313730e-06  -3.12410254e-06  -3.14506193e-06 ...,  -3.14506193e-06\n",
        "    -3.12410254e-06  -3.10313730e-06]\n",
        "  [ -3.08258856e-06  -3.10313730e-06  -3.12367478e-06 ...,  -3.12367478e-06\n",
        "    -3.10313730e-06  -3.08258856e-06]]]\n"
       ]
      }
     ]
    },
    {
     "cell_type": "code",
     "collapsed": false,
     "input": [
      "#Graficar \n",
      "plt.figure(figsize=(12,10))\n",
      "ax=fig.add_subplot(111)\n",
      "figure.colorbar(ax.pcolor(xx,yy,1000*Pot[Nl/2],cmap='gist_heat'))\n",
      "plt.clabel(ax.contour(xx,yy,1000*Pot[Nl/2],levels==[-16,40,-100,-200,-400,-800,-1600],colors='k'))\n",
      "#plt.pcolor(yy,zz,campo[50]*100**2,cmap='gist_heat')\n",
      "#plt.colorbar()\n",
      "plt.contour(yy,zz,campo[50]*100**2)\n",
      "#plt.xlim(ymin,ymax)\n",
      "#plt.ylim(zmin,zmax)\n",
      "plt.show()"
     ],
     "language": "python",
     "metadata": {},
     "outputs": [
      {
       "ename": "NameError",
       "evalue": "name 'fig' is not defined",
       "output_type": "pyerr",
       "traceback": [
        "\u001b[0;31m---------------------------------------------------------------------------\u001b[0m\n\u001b[0;31mNameError\u001b[0m                                 Traceback (most recent call last)",
        "\u001b[0;32m<ipython-input-22-0bfeb4a7a9ed>\u001b[0m in \u001b[0;36m<module>\u001b[0;34m()\u001b[0m\n\u001b[1;32m      1\u001b[0m \u001b[0;31m#Graficar\u001b[0m\u001b[0;34m\u001b[0m\u001b[0;34m\u001b[0m\u001b[0m\n\u001b[1;32m      2\u001b[0m \u001b[0mplt\u001b[0m\u001b[0;34m.\u001b[0m\u001b[0mfigure\u001b[0m\u001b[0;34m(\u001b[0m\u001b[0mfigsize\u001b[0m\u001b[0;34m=\u001b[0m\u001b[0;34m(\u001b[0m\u001b[0;36m12\u001b[0m\u001b[0;34m,\u001b[0m\u001b[0;36m10\u001b[0m\u001b[0;34m)\u001b[0m\u001b[0;34m)\u001b[0m\u001b[0;34m\u001b[0m\u001b[0m\n\u001b[0;32m----> 3\u001b[0;31m \u001b[0max\u001b[0m\u001b[0;34m=\u001b[0m\u001b[0mfig\u001b[0m\u001b[0;34m.\u001b[0m\u001b[0madd_subplot\u001b[0m\u001b[0;34m(\u001b[0m\u001b[0;36m111\u001b[0m\u001b[0;34m)\u001b[0m\u001b[0;34m\u001b[0m\u001b[0m\n\u001b[0m\u001b[1;32m      4\u001b[0m \u001b[0mfigure\u001b[0m\u001b[0;34m.\u001b[0m\u001b[0mcolorbar\u001b[0m\u001b[0;34m(\u001b[0m\u001b[0max\u001b[0m\u001b[0;34m.\u001b[0m\u001b[0mpcolor\u001b[0m\u001b[0;34m(\u001b[0m\u001b[0mxx\u001b[0m\u001b[0;34m,\u001b[0m\u001b[0myy\u001b[0m\u001b[0;34m,\u001b[0m\u001b[0;36m1000\u001b[0m\u001b[0;34m*\u001b[0m\u001b[0mPot\u001b[0m\u001b[0;34m[\u001b[0m\u001b[0mNl\u001b[0m\u001b[0;34m/\u001b[0m\u001b[0;36m2\u001b[0m\u001b[0;34m]\u001b[0m\u001b[0;34m,\u001b[0m\u001b[0mcmap\u001b[0m\u001b[0;34m=\u001b[0m\u001b[0;34m'gist_heat'\u001b[0m\u001b[0;34m)\u001b[0m\u001b[0;34m)\u001b[0m\u001b[0;34m\u001b[0m\u001b[0m\n\u001b[1;32m      5\u001b[0m \u001b[0mplt\u001b[0m\u001b[0;34m.\u001b[0m\u001b[0mclabel\u001b[0m\u001b[0;34m(\u001b[0m\u001b[0max\u001b[0m\u001b[0;34m.\u001b[0m\u001b[0mcontour\u001b[0m\u001b[0;34m(\u001b[0m\u001b[0mxx\u001b[0m\u001b[0;34m,\u001b[0m\u001b[0myy\u001b[0m\u001b[0;34m,\u001b[0m\u001b[0;36m1000\u001b[0m\u001b[0;34m*\u001b[0m\u001b[0mPot\u001b[0m\u001b[0;34m[\u001b[0m\u001b[0mNl\u001b[0m\u001b[0;34m/\u001b[0m\u001b[0;36m2\u001b[0m\u001b[0;34m]\u001b[0m\u001b[0;34m,\u001b[0m\u001b[0mlevels\u001b[0m\u001b[0;34m==\u001b[0m\u001b[0;34m[\u001b[0m\u001b[0;34m-\u001b[0m\u001b[0;36m16\u001b[0m\u001b[0;34m,\u001b[0m\u001b[0;36m40\u001b[0m\u001b[0;34m,\u001b[0m\u001b[0;34m-\u001b[0m\u001b[0;36m100\u001b[0m\u001b[0;34m,\u001b[0m\u001b[0;34m-\u001b[0m\u001b[0;36m200\u001b[0m\u001b[0;34m,\u001b[0m\u001b[0;34m-\u001b[0m\u001b[0;36m400\u001b[0m\u001b[0;34m,\u001b[0m\u001b[0;34m-\u001b[0m\u001b[0;36m800\u001b[0m\u001b[0;34m,\u001b[0m\u001b[0;34m-\u001b[0m\u001b[0;36m1600\u001b[0m\u001b[0;34m]\u001b[0m\u001b[0;34m,\u001b[0m\u001b[0mcolors\u001b[0m\u001b[0;34m=\u001b[0m\u001b[0;34m'k'\u001b[0m\u001b[0;34m)\u001b[0m\u001b[0;34m)\u001b[0m\u001b[0;34m\u001b[0m\u001b[0m\n",
        "\u001b[0;31mNameError\u001b[0m: name 'fig' is not defined"
       ]
      },
      {
       "metadata": {},
       "output_type": "display_data",
       "text": [
        "<matplotlib.figure.Figure at 0xa1da992c>"
       ]
      }
     ],
     "prompt_number": 22
    },
    {
     "cell_type": "markdown",
     "metadata": {},
     "source": [
      "##Potencial El\u00e9ctrico en el Eje Z & Masas puntuales"
     ]
    },
    {
     "cell_type": "code",
     "collapsed": false,
     "input": [
      "#"
     ],
     "language": "python",
     "metadata": {},
     "outputs": []
    },
    {
     "cell_type": "code",
     "collapsed": false,
     "input": [
      "#Gr\u00e1fica"
     ],
     "language": "python",
     "metadata": {},
     "outputs": []
    },
    {
     "cell_type": "markdown",
     "metadata": {},
     "source": [
      "##Derivada Num\u00e9rica\n"
     ]
    },
    {
     "cell_type": "code",
     "collapsed": false,
     "input": [
      "derivx = (np.roll(Pot[Nl/2,Nl/2],1)-np.roll(Pot[Nl/2,Nl/2],-1))/M\n"
     ],
     "language": "python",
     "metadata": {},
     "outputs": []
    },
    {
     "cell_type": "code",
     "collapsed": false,
     "input": [
      "#Gr\u00e1fica\n"
     ],
     "language": "python",
     "metadata": {},
     "outputs": []
    },
    {
     "cell_type": "markdown",
     "metadata": {},
     "source": [
      "##Tiempo"
     ]
    },
    {
     "cell_type": "code",
     "collapsed": false,
     "input": [
      "#M\u00e9todo de Runge-Kutta- Insipirado en un ejemplo de clase de M\u00e9todos Computacionales\n",
      "def Kutta4():\n",
      "    global t\n",
      "    global Deltat\n",
      "    global Y\n",
      "    K1 = f(Y)\n",
      "    K2 = f(Y + Deltat*(1./2.*K1))\n",
      "    K3 = f(Y + Deltat*(1./2.*K2))\n",
      "    K4 = f(Y + Deltat*K3)\n",
      "    Y+= Deltat * (1./6.*K1 + 1./3.*K2 + 1./3.*K3 + 1./6.*K4)\n",
      "    t+= Deltat"
     ],
     "language": "python",
     "metadata": {},
     "outputs": [],
     "prompt_number": 19
    },
    {
     "cell_type": "code",
     "collapsed": false,
     "input": [],
     "language": "python",
     "metadata": {},
     "outputs": []
    }
   ],
   "metadata": {}
  }
 ]
}