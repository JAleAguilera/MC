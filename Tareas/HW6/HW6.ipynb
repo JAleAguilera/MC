{
 "metadata": {
  "name": ""
 },
 "nbformat": 3,
 "nbformat_minor": 0,
 "worksheets": [
  {
   "cells": [
    {
     "cell_type": "code",
     "collapsed": false,
     "input": [
      "%pylab inline\n",
      "import numpy as np\n",
      "import sympy as sm\n",
      "import scipy as sp\n",
      "from sympy import *\n",
      "from scipy import interpolate\n",
      "from scipy.integrate import ode\n",
      "from scipy.integrate import odeint"
     ],
     "language": "python",
     "metadata": {},
     "outputs": [
      {
       "output_type": "stream",
       "stream": "stdout",
       "text": [
        "Populating the interactive namespace from numpy and matplotlib\n"
       ]
      },
      {
       "output_type": "stream",
       "stream": "stderr",
       "text": [
        "WARNING: pylab import has clobbered these variables: ['prod', 'Circle', 'power', 'diag', 'sinh', 'trunc', 'binomial', 'plot', 'eye', 'det', 'tan', 'product', 'roots', 'vectorize', 'sin', 'plotting', 'zeros', 'cosh', 'conjugate', 'take', 'trace', 'beta', 'ones', 'transpose', 'cos', 'interactive', 'solve', 'diff', 'invert', 'tanh', 'Polygon', 'reshape', 'sqrt', 'floor', 'source', 'add', 'multinomial', 'test', 'poly', 'mod', 'sign', 'gamma', 'log', 'var', 'seterr', 'flatten', 'nan', 'pi', 'exp']\n",
        "`%pylab --no-import-all` prevents importing * from pylab and numpy\n"
       ]
      }
     ],
     "prompt_number": 54
    },
    {
     "cell_type": "markdown",
     "metadata": {},
     "source": [
      "#Adam-Basforth"
     ]
    },
    {
     "cell_type": "code",
     "collapsed": false,
     "input": [
      "#Defino la funci\u00f3n que me recibe como par\u00e1metro \n",
      "#Defino los s\u00edmbolos para poder resolver el polinomio\n",
      "#De creaci\u00f3n emp\u00edrica uso el polinomio de Adam-Basforth para grado N-1 \n",
      "#Defino el polinomio \n",
      "\n",
      "init_printing(use_unicode=True)\n",
      "\n",
      "var\n",
      "\n",
      "def langrange(Num):\n",
      "    t=symbols('t')\n",
      "    n=symbols('n')\n",
      "    Fn=np.array([])\n",
      "    for i in range(0,Num,1):\n",
      "        if (Num)\n",
      "        Fn[i]=(fn%d (i+1))\n",
      "        \n",
      "    #Polinomio en general es \n",
      "        ti=Fn[i]*pf*(t-tn[i])\n",
      "    return polinomio"
     ],
     "language": "python",
     "metadata": {},
     "outputs": [
      {
       "ename": "SyntaxError",
       "evalue": "invalid syntax (<ipython-input-55-bd1d7f93035e>, line 15)",
       "output_type": "pyerr",
       "traceback": [
        "\u001b[0;36m  File \u001b[0;32m\"<ipython-input-55-bd1d7f93035e>\"\u001b[0;36m, line \u001b[0;32m15\u001b[0m\n\u001b[0;31m    if (Num)\u001b[0m\n\u001b[0m            ^\u001b[0m\n\u001b[0;31mSyntaxError\u001b[0m\u001b[0;31m:\u001b[0m invalid syntax\n"
       ]
      }
     ],
     "prompt_number": 55
    },
    {
     "cell_type": "code",
     "collapsed": false,
     "input": [
      "def adams():\n",
      "    integral = integrate(polinomio)\n",
      " "
     ],
     "language": "python",
     "metadata": {},
     "outputs": [],
     "prompt_number": 56
    },
    {
     "cell_type": "markdown",
     "metadata": {},
     "source": [
      "#Potencial Gravitacional - Ecuaci\u00f3n de Poisson "
     ]
    },
    {
     "cell_type": "code",
     "collapsed": false,
     "input": [
      "#Definimos todas las constantes necesarias\n",
      "#Densidad las unidad son (Kg/cm3)\n",
      "#La unidad del lado del cubo esta en (m)\n",
      "#Todas las unidades de as constantes se encuentran en SI (Sistema Internacional)\n",
      "\n",
      "Ro=400.\n",
      "\n",
      "Lado=270\n",
      "\n",
      "e0=8.85e-12 \n",
      "\n",
      "q=1e-2 \n",
      "\n",
      "Nl=100\n",
      "\n",
      "xmin=-Lado/2\n",
      "\n",
      "xmax= Lado/2\n",
      "\n",
      "ymin=-Lado/2\n",
      "\n",
      "ymax= Lado/2\n",
      "\n",
      "zmin=-Lado/2\n",
      "\n",
      "zmax=Lado/2\n",
      "\n",
      "NumIter=1000\n",
      "\n",
      "G=6.674e-11"
     ],
     "language": "python",
     "metadata": {},
     "outputs": [],
     "prompt_number": 57
    },
    {
     "cell_type": "markdown",
     "metadata": {},
     "source": [
      "###Condiciones de frontera de Dirichlet consiste en que debe estar en el contorno de la figura siendo \n",
      "\n",
      "$$\n",
      "f(x) = y(x)\n",
      "$$\n"
     ]
    },
    {
     "cell_type": "code",
     "collapsed": false,
     "input": [
      "#Declaro las coordenadas en las tres dimesiones\n",
      "#Creo los mesgrid de cada coordenada (x y z)\n",
      "#La variable que se llama constante pertenece al potencial gravitacional\n",
      "#Creo el cuadrado con la ayuda de np.ones y np.zeros\n",
      "#Mi cubo es de 10x10x10 y esta fijado en el centro de la malla de 100x100x100\n",
      "\n",
      "xx=np.linspace(xmin,xmax,Nl)\n",
      "yy=np.linspace(-ymin,-ymax,Nl) \n",
      "zz=np.linspace(-zmin,zmax, Nl)\n",
      "\n",
      "xmesh=np.meshgrid(xx)\n",
      "ymesh=np.meshgrid(yy)\n",
      "\n",
      "dx=(xmax-xmin)/Nl\n",
      "dy=(ymax-ymin)/Nl\n",
      "dz=(zmax-zmin)/Nl\n",
      "\n",
      "constante=Ro*np.pi*4*G\n",
      "\n",
      "densidad=np.zeros((Nl,Nl,Nl))\n",
      "\n",
      "cuadrado = np.ones((10,10,10))\n",
      "cuadradoEn400= cuadrado*constante\n",
      "\n",
      "densidad[45:55,45:55,45:55] = cuadradoEn400\n",
      "\n",
      "campo = np.zeros((Nl,Nl,Nl))\n",
      "\n",
      "print len(densidad)\n",
      "print len(cuadrado)\n",
      "print len(cuadradoEn400)"
     ],
     "language": "python",
     "metadata": {},
     "outputs": [
      {
       "output_type": "stream",
       "stream": "stdout",
       "text": [
        "100\n",
        "10\n",
        "10\n"
       ]
      }
     ],
     "prompt_number": 66
    },
    {
     "cell_type": "code",
     "collapsed": false,
     "input": [
      "#Se implementa el m\u00e9todo de relaci\u00f3n, inspirado en el cuaderno de Juan David Lizarazo\n",
      "\n",
      "#scaled_density=dx**2*density\n",
      "\n",
      "for __ in range(NumIter):\n",
      "    campo=1/4.*(np.roll(campo,1,axis=0)+np.roll(campo,-1,axis=0)+np.roll(campo,1,axis=1)+np.roll(campo,-1,axis=1))\n",
      "    campo[0]=0.\n",
      "    campo[-1]=0.\n",
      "    campo[:,0]=0.\n",
      "    campo[:,-1]=0."
     ],
     "language": "python",
     "metadata": {},
     "outputs": [],
     "prompt_number": 71
    },
    {
     "cell_type": "code",
     "collapsed": false,
     "input": [
      "#Gr\u00e1ficar \n",
      "plt.figure(figsize=(12,10))\n",
      "plt.pcolor(xmesh,ymesh,campo,cmap='gist_heat')\n",
      "plt.colorbar()\n",
      "plt.contour(xmesh,ymesh,campo)\n",
      "plt.xlim(xmin,xmax)\n",
      "plt.ylim(ymin,ymax)\n",
      "plt.show()"
     ],
     "language": "python",
     "metadata": {},
     "outputs": [
      {
       "ename": "ValueError",
       "evalue": "too many values to unpack",
       "output_type": "pyerr",
       "traceback": [
        "\u001b[0;31m---------------------------------------------------------------------------\u001b[0m\n\u001b[0;31mValueError\u001b[0m                                Traceback (most recent call last)",
        "\u001b[0;32m<ipython-input-73-837f0252fdde>\u001b[0m in \u001b[0;36m<module>\u001b[0;34m()\u001b[0m\n\u001b[1;32m      1\u001b[0m \u001b[0;31m#Gr\u00e1ficar\u001b[0m\u001b[0;34m\u001b[0m\u001b[0;34m\u001b[0m\u001b[0m\n\u001b[1;32m      2\u001b[0m \u001b[0mplt\u001b[0m\u001b[0;34m.\u001b[0m\u001b[0mfigure\u001b[0m\u001b[0;34m(\u001b[0m\u001b[0mfigsize\u001b[0m\u001b[0;34m=\u001b[0m\u001b[0;34m(\u001b[0m\u001b[0;36m12\u001b[0m\u001b[0;34m,\u001b[0m\u001b[0;36m10\u001b[0m\u001b[0;34m)\u001b[0m\u001b[0;34m)\u001b[0m\u001b[0;34m\u001b[0m\u001b[0m\n\u001b[0;32m----> 3\u001b[0;31m \u001b[0mplt\u001b[0m\u001b[0;34m.\u001b[0m\u001b[0mpcolor\u001b[0m\u001b[0;34m(\u001b[0m\u001b[0mxmesh\u001b[0m\u001b[0;34m,\u001b[0m\u001b[0mymesh\u001b[0m\u001b[0;34m,\u001b[0m\u001b[0mcampo\u001b[0m\u001b[0;34m,\u001b[0m\u001b[0mcmap\u001b[0m\u001b[0;34m=\u001b[0m\u001b[0;34m'gist_heat'\u001b[0m\u001b[0;34m)\u001b[0m\u001b[0;34m\u001b[0m\u001b[0m\n\u001b[0m\u001b[1;32m      4\u001b[0m \u001b[0mplt\u001b[0m\u001b[0;34m.\u001b[0m\u001b[0mcolorbar\u001b[0m\u001b[0;34m(\u001b[0m\u001b[0;34m)\u001b[0m\u001b[0;34m\u001b[0m\u001b[0m\n\u001b[1;32m      5\u001b[0m \u001b[0mplt\u001b[0m\u001b[0;34m.\u001b[0m\u001b[0mcontour\u001b[0m\u001b[0;34m(\u001b[0m\u001b[0mxmesh\u001b[0m\u001b[0;34m,\u001b[0m\u001b[0mymesh\u001b[0m\u001b[0;34m,\u001b[0m\u001b[0mcampo\u001b[0m\u001b[0;34m)\u001b[0m\u001b[0;34m\u001b[0m\u001b[0m\n",
        "\u001b[0;32m/usr/local/lib/python2.7/dist-packages/matplotlib/pyplot.pyc\u001b[0m in \u001b[0;36mpcolor\u001b[0;34m(*args, **kwargs)\u001b[0m\n\u001b[1;32m   3016\u001b[0m         \u001b[0max\u001b[0m\u001b[0;34m.\u001b[0m\u001b[0mhold\u001b[0m\u001b[0;34m(\u001b[0m\u001b[0mhold\u001b[0m\u001b[0;34m)\u001b[0m\u001b[0;34m\u001b[0m\u001b[0m\n\u001b[1;32m   3017\u001b[0m     \u001b[0;32mtry\u001b[0m\u001b[0;34m:\u001b[0m\u001b[0;34m\u001b[0m\u001b[0m\n\u001b[0;32m-> 3018\u001b[0;31m         \u001b[0mret\u001b[0m \u001b[0;34m=\u001b[0m \u001b[0max\u001b[0m\u001b[0;34m.\u001b[0m\u001b[0mpcolor\u001b[0m\u001b[0;34m(\u001b[0m\u001b[0;34m*\u001b[0m\u001b[0margs\u001b[0m\u001b[0;34m,\u001b[0m \u001b[0;34m**\u001b[0m\u001b[0mkwargs\u001b[0m\u001b[0;34m)\u001b[0m\u001b[0;34m\u001b[0m\u001b[0m\n\u001b[0m\u001b[1;32m   3019\u001b[0m         \u001b[0mdraw_if_interactive\u001b[0m\u001b[0;34m(\u001b[0m\u001b[0;34m)\u001b[0m\u001b[0;34m\u001b[0m\u001b[0m\n\u001b[1;32m   3020\u001b[0m     \u001b[0;32mfinally\u001b[0m\u001b[0;34m:\u001b[0m\u001b[0;34m\u001b[0m\u001b[0m\n",
        "\u001b[0;32m/usr/local/lib/python2.7/dist-packages/matplotlib/axes/_axes.pyc\u001b[0m in \u001b[0;36mpcolor\u001b[0;34m(self, *args, **kwargs)\u001b[0m\n\u001b[1;32m   4887\u001b[0m         \u001b[0mshading\u001b[0m \u001b[0;34m=\u001b[0m \u001b[0mkwargs\u001b[0m\u001b[0;34m.\u001b[0m\u001b[0mpop\u001b[0m\u001b[0;34m(\u001b[0m\u001b[0;34m'shading'\u001b[0m\u001b[0;34m,\u001b[0m \u001b[0;34m'flat'\u001b[0m\u001b[0;34m)\u001b[0m\u001b[0;34m\u001b[0m\u001b[0m\n\u001b[1;32m   4888\u001b[0m \u001b[0;34m\u001b[0m\u001b[0m\n\u001b[0;32m-> 4889\u001b[0;31m         \u001b[0mX\u001b[0m\u001b[0;34m,\u001b[0m \u001b[0mY\u001b[0m\u001b[0;34m,\u001b[0m \u001b[0mC\u001b[0m \u001b[0;34m=\u001b[0m \u001b[0mself\u001b[0m\u001b[0;34m.\u001b[0m\u001b[0m_pcolorargs\u001b[0m\u001b[0;34m(\u001b[0m\u001b[0;34m'pcolor'\u001b[0m\u001b[0;34m,\u001b[0m \u001b[0;34m*\u001b[0m\u001b[0margs\u001b[0m\u001b[0;34m,\u001b[0m \u001b[0mallmatch\u001b[0m\u001b[0;34m=\u001b[0m\u001b[0mFalse\u001b[0m\u001b[0;34m)\u001b[0m\u001b[0;34m\u001b[0m\u001b[0m\n\u001b[0m\u001b[1;32m   4890\u001b[0m         \u001b[0mNy\u001b[0m\u001b[0;34m,\u001b[0m \u001b[0mNx\u001b[0m \u001b[0;34m=\u001b[0m \u001b[0mX\u001b[0m\u001b[0;34m.\u001b[0m\u001b[0mshape\u001b[0m\u001b[0;34m\u001b[0m\u001b[0m\n\u001b[1;32m   4891\u001b[0m \u001b[0;34m\u001b[0m\u001b[0m\n",
        "\u001b[0;32m/usr/local/lib/python2.7/dist-packages/matplotlib/axes/_axes.pyc\u001b[0m in \u001b[0;36m_pcolorargs\u001b[0;34m(funcname, *args, **kw)\u001b[0m\n\u001b[1;32m   4690\u001b[0m         \u001b[0;32mif\u001b[0m \u001b[0mlen\u001b[0m\u001b[0;34m(\u001b[0m\u001b[0margs\u001b[0m\u001b[0;34m)\u001b[0m \u001b[0;34m==\u001b[0m \u001b[0;36m3\u001b[0m\u001b[0;34m:\u001b[0m\u001b[0;34m\u001b[0m\u001b[0m\n\u001b[1;32m   4691\u001b[0m             \u001b[0mX\u001b[0m\u001b[0;34m,\u001b[0m \u001b[0mY\u001b[0m\u001b[0;34m,\u001b[0m \u001b[0mC\u001b[0m \u001b[0;34m=\u001b[0m \u001b[0margs\u001b[0m\u001b[0;34m\u001b[0m\u001b[0m\n\u001b[0;32m-> 4692\u001b[0;31m             \u001b[0mnumRows\u001b[0m\u001b[0;34m,\u001b[0m \u001b[0mnumCols\u001b[0m \u001b[0;34m=\u001b[0m \u001b[0mC\u001b[0m\u001b[0;34m.\u001b[0m\u001b[0mshape\u001b[0m\u001b[0;34m\u001b[0m\u001b[0m\n\u001b[0m\u001b[1;32m   4693\u001b[0m         \u001b[0;32melse\u001b[0m\u001b[0;34m:\u001b[0m\u001b[0;34m\u001b[0m\u001b[0m\n\u001b[1;32m   4694\u001b[0m             raise TypeError(\n",
        "\u001b[0;31mValueError\u001b[0m: too many values to unpack"
       ]
      },
      {
       "metadata": {},
       "output_type": "display_data",
       "png": "[encoded data removed]",
       "text": [
        "<matplotlib.figure.Figure at 0xaf47178c>"
       ]
      }
     ],
     "prompt_number": 73
    },
    {
     "cell_type": "code",
     "collapsed": false,
     "input": [],
     "language": "python",
     "metadata": {},
     "outputs": []
    }
   ],
   "metadata": {}
  }
 ]
}