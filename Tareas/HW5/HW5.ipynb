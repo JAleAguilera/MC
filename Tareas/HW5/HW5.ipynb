{
 "metadata": {
  "name": ""
 },
 "nbformat": 3,
 "nbformat_minor": 0,
 "worksheets": [
  {
   "cells": [
    {
     "cell_type": "code",
     "collapsed": false,
     "input": [
      "%pylab inline\n",
      "import numpy as np\n",
      "import matplotlib.pylab as plt\n",
      "%matplotlib inline\n",
      "import scipy as sp"
     ],
     "language": "python",
     "metadata": {},
     "outputs": [
      {
       "output_type": "stream",
       "stream": "stdout",
       "text": [
        "Populating the interactive namespace from numpy and matplotlib\n"
       ]
      },
      {
       "output_type": "stream",
       "stream": "stderr",
       "text": [
        "WARNING: pylab import has clobbered these variables: ['e', 'f']\n",
        "`%pylab --no-import-all` prevents importing * from pylab and numpy\n"
       ]
      }
     ],
     "prompt_number": 3
    },
    {
     "cell_type": "markdown",
     "metadata": {},
     "source": [
      "#3-Coregraf\u00eda"
     ]
    },
    {
     "cell_type": "code",
     "collapsed": false,
     "input": [
      "#Defino las constantes del problema en cuesti\u00f3n \n",
      "a=0.24250109\n",
      "b=-0.0607718825\n",
      "c=0.93240737\n",
      "d=0.86473146\n",
      "\n",
      "print a\n",
      "print b\n",
      "print c\n",
      "print d"
     ],
     "language": "python",
     "metadata": {},
     "outputs": [
      {
       "output_type": "stream",
       "stream": "stdout",
       "text": [
        "0.24250109\n",
        "-0.0607718825\n",
        "0.93240737\n",
        "0.86473146\n"
       ]
      }
     ],
     "prompt_number": 4
    },
    {
     "cell_type": "code",
     "collapsed": false,
     "input": [
      "#Condiciones Inciales\n",
      "#Definio los vectores iniciales de la posici\u00f3n, y los vectores iniciales de la velocidad\n",
      "r1=np.array([a, -b])\n",
      "r2=np.array([-a, -b])\n",
      "r3=np.array([0.0, 0.0])\n",
      "\n",
      "v1=np.array([c, d])\n",
      "v2=np.array([c, d])\n",
      "v3=np.array([-2*d, -2*d])\n",
      "\n",
      "posi=np.array([r1, r2, r3])\n",
      "\n",
      "veloci=np.array([v1, v2, v3])"
     ],
     "language": "python",
     "metadata": {},
     "outputs": [],
     "prompt_number": 5
    },
    {
     "cell_type": "code",
     "collapsed": false,
     "input": [
      "#Una forma util de definir las posiciones y las velocidades en n s\u00f3lo array \n",
      "vectorPosi=[]\n",
      "vectorVeloci=[]\n",
      "vectorR=[]\n",
      "\n",
      "for i in range(0, len(posi)):\n",
      "    vectorR.append(posi[i])\n",
      "    vectorR.append(veloci[i])\n",
      "    \n",
      "vectorRFin=np.array(vectorR)"
     ],
     "language": "python",
     "metadata": {},
     "outputs": [],
     "prompt_number": 6
    },
    {
     "cell_type": "markdown",
     "metadata": {},
     "source": [
      "###Fuerza Gravitacional \n",
      "$$\n",
      "F_g=\\frac{G*M*m}{r^{2}} * \\widehat{r}\n",
      "$$\n",
      "\n",
      "AL declara el vector unitario es posible re-escribirlo de la siguiente manera\n",
      "\n",
      "$$\n",
      "F_g=\\frac{r_1-r_2}{||(r_1-r_2)||^3} * (G*M*m)\n",
      "$$\n",
      "\n",
      "$$\n",
      "F_g = m* a = \\frac{\\widehat{r}}{r^3}\n",
      "$$\n",
      "\n",
      "$$\n",
      "\\int a = \\int \\frac{\\widehat{r}}{r^3}\n",
      "$$\n",
      "\n",
      "$$\n",
      "\\frac{d^2 x}{dt^2} = a = \\frac{r_1-r_2}{||(r_1-r_2)||^3} \n",
      "$$\n",
      "\n",
      "$$\n",
      "\\frac{dx}{dt} (\\frac{dx}{dt}) =  \\frac{r_1-r_2}{||(r_1-r_2)||^3} \n",
      "$$"
     ]
    },
    {
     "cell_type": "code",
     "collapsed": false,
     "input": [
      "#Definici\u00f3n en este caso mi funci\u00f3n que es la fuerza \n",
      "def fuerzas(F):\n",
      "    fuerza=[]\n",
      "    \n",
      "    for i in range (0,len(F),2):\n",
      "        v=0\n",
      "        for j in range (0, len(F), 2):\n",
      "            if (i!=j):\n",
      "                v-= ((F[i]-F[j])/((norm(F[i]-F[j]))**3))\n",
      "        fuerza.append(F[i+1])\n",
      "        fuerza.append(v)\n",
      "        fuerzaF = np.array(fuerza)\n",
      "    return (fuerzaF)"
     ],
     "language": "python",
     "metadata": {},
     "outputs": [],
     "prompt_number": 7
    },
    {
     "cell_type": "markdown",
     "metadata": {},
     "source": [
      "#M\u00e9todo de Runge Kutta - Orden 4\n",
      "\n",
      "Ecuaci\u00f3n que debo iterar en el m\u00e9todo iterar:\n",
      "$$\n",
      "Y_i+1 = Y_i + \\frac{1}{6} (K_1 + 2*K_2 + 2*K_3 + K_4) \n",
      "$$\n",
      "\n",
      "$$\n",
      "K_1 = h f(X_1, Y_1)\n",
      "$$\n",
      "\n",
      "$$\n",
      "K_2 = h f(X_1 + \\frac{h}{2} , Y_1 + \\frac{K_1}{2} )\n",
      "$$\n",
      "\n",
      "$$\n",
      "K_3 = h f(X_1 + \\frac{h}{2} , Y_1 + \\frac{K_2}{2} )\n",
      "$$\n",
      "\n",
      "$$\n",
      "K_4 = h f(X_1 + h, Y_1 + K_3)\n",
      "$$"
     ]
    },
    {
     "cell_type": "code",
     "collapsed": false,
     "input": [
      "#Defino el m\u00e9todo de Runge Kutta de orden 4\n",
      "#Defino las K correspondientes y liego el Yi+1 para iterar\n",
      "def RungeKutta(h=0, F=0):\n",
      "    K1 = fuerzas(F)\n",
      "    K2 = fuerzas(F + h*(1./2.* K1))\n",
      "    K3 = fuerzas(F + h*(1./2.* K2))\n",
      "    K4 = fuerzas(F + h*K3)\n",
      "    F+= h * (1/6.*K1 + 1/3. * K2 + 1/3.*K3 + 1/6.*K4)\n",
      "    \n",
      "    return (F)"
     ],
     "language": "python",
     "metadata": {},
     "outputs": [],
     "prompt_number": 8
    },
    {
     "cell_type": "code",
     "collapsed": false,
     "input": [
      "#Defino el m\u00e9todo para realizar Runge-Kutta varias veces \n",
      "#Con esta funci\u00f3n incializo todo en ceros\n",
      "def repeticiones(numIter=0, tmax=0, F=0):\n",
      "    h = tmax/numIter \n",
      "    infoComple=np.array([F]) \n",
      "    for i in range(numIter):\n",
      "        infoComple=np.append(infoComple,[RungeKutta(h,infoComple[-1])],axis=0)\n",
      "    return (infoComple)\n",
      "\n",
      "#datos=[]\n",
      "#a=RungeKutta(0.01, vectorRFin)\n",
      "#datos.append(a[0])\n",
      "#datos.append(a[1])\n",
      "#t=0.01\n",
      "#while (t<=1):\n",
      "    #r=RungeKutta(0.01, vectorRFin)\n",
      "    #datos.append(r[0])\n",
      "    #datos.append(r[1])\n",
      "    #t+=0.01\n",
      "    #datosF=np.array(datos)\n",
      "#print datosF\n"
     ],
     "language": "python",
     "metadata": {},
     "outputs": [],
     "prompt_number": 9
    },
    {
     "cell_type": "code",
     "collapsed": false,
     "input": [
      "#Graficar para la masa 1 \n",
      "#Se corre el m\u00e9todo para la masa 1, la que me intereza en cuesti\u00f3n\n",
      "datos = repeticiones(numIter=100, tmax=0.5, F=vectorRFin)"
     ],
     "language": "python",
     "metadata": {},
     "outputs": [],
     "prompt_number": 10
    },
    {
     "cell_type": "code",
     "collapsed": false,
     "input": [
      "plt.scatter(datos[:,0][:,0], datos[:,0][:,1], s=1, color=\"blue\")\n",
      "plt.scatter(datos[:,0][:,0][0], datos[:,0][:,1][0], s=50, color=\"black\")\n",
      "plt.title(\"Trayectoria de $m_1$\")\n",
      "#plt.ylim(-0.1,0.1)\n",
      "#plt.xlim(-0.3,0.3)"
     ],
     "language": "python",
     "metadata": {},
     "outputs": [
      {
       "metadata": {},
       "output_type": "pyout",
       "prompt_number": 11,
       "text": [
        "<matplotlib.text.Text at 0xb174288c>"
       ]
      },
      {
       "metadata": {},
       "output_type": "display_data",
       "png": "[encoded data removed]",
       "text": [
        "<matplotlib.figure.Figure at 0xb17127cc>"
       ]
      }
     ],
     "prompt_number": 11
    },
    {
     "cell_type": "code",
     "collapsed": false,
     "input": [
      "#Calcular el periodo\n",
      "tmax=0.5\n",
      "numIter=1000\n",
      "h=tmax/numIter\n",
      "archiF=np.array([[vectorRFin[0], vectorRFin[1], vectorRFin[2], vectorRFin[3], vectorRFin[4], vectorRFin[5]]])\n",
      "for i in range(0,1000):\n",
      "    RungeKutta(h, vectorRFin)\n",
      "    archiF=np.append(archiF,[[vectorRFin[0], vectorRFin[1], vectorRFin[2], vectorRFin[3], vectorRFin[4], vectorRFin[5]]], axis=0)"
     ],
     "language": "python",
     "metadata": {},
     "outputs": [],
     "prompt_number": 12
    },
    {
     "cell_type": "code",
     "collapsed": false,
     "input": [
      "#Animaci\u00f3n"
     ],
     "language": "python",
     "metadata": {},
     "outputs": [],
     "prompt_number": 13
    },
    {
     "cell_type": "code",
     "collapsed": false,
     "input": [],
     "language": "python",
     "metadata": {},
     "outputs": [],
     "prompt_number": 13
    },
    {
     "cell_type": "markdown",
     "metadata": {},
     "source": [
      "#4-Coreograf\u00eda"
     ]
    },
    {
     "cell_type": "code",
     "collapsed": false,
     "input": [
      "#Defino mis vectores iniciales para la trayectoria\n",
      "\n",
      "r1=np.array([0.384277200514, 0.0])\n",
      "r2=np.array([-0.0156823005697, -0.13966430504])\n",
      "r3=np.array([-0.352912599375, 0.0])\n",
      "r4=np.array([0.0156823005697, 0.13966430504])\n",
      "\n",
      "v1=np.array([0.0, a])\n",
      "v2=np.array([-2.01155925929, -1.19817066623])\n",
      "v3=np.array([0.0, 1.63619158614])\n",
      "v4=np.array([2.01155925929,-1.19817066623])\n",
      "\n",
      "posi4=np.array([r1, r2, r3, r4])\n",
      "\n",
      "veloci4=np.array([v1, v2, v3, v4])"
     ],
     "language": "python",
     "metadata": {},
     "outputs": [],
     "prompt_number": 14
    },
    {
     "cell_type": "code",
     "collapsed": false,
     "input": [
      "vectorPosi=[]\n",
      "vectorVeloci=[]\n",
      "vectorR=[]\n",
      "\n",
      "def F(a=0):\n",
      "    for i in range(0, len(posi)):\n",
      "        vectorR.append(posi[i])\n",
      "        vectorR.append(veloci[i])\n",
      "        vectorRFin=np.array(vectorR)\n",
      "    return vectorRFin"
     ],
     "language": "python",
     "metadata": {},
     "outputs": [],
     "prompt_number": 18
    },
    {
     "cell_type": "code",
     "collapsed": false,
     "input": [
      "F(a=0.7)"
     ],
     "language": "python",
     "metadata": {},
     "outputs": [
      {
       "metadata": {},
       "output_type": "pyout",
       "prompt_number": 19,
       "text": [
        "array([[ 0.24250109,  0.06077188],\n",
        "       [ 0.93240737,  0.86473146],\n",
        "       [-0.24250109,  0.06077188],\n",
        "       [ 0.93240737,  0.86473146],\n",
        "       [ 0.        ,  0.        ],\n",
        "       [-1.72946292, -1.72946292]])"
       ]
      }
     ],
     "prompt_number": 19
    },
    {
     "cell_type": "markdown",
     "metadata": {},
     "source": [
      "#Bibliograf\u00eda:\n",
      "Algunos de los m\u00e9todos construidos estan inspirados en :\n",
      "\n",
      "1. [Runge-Kutta](https://www.youtube.com/watch?v=IKzcWPKYpEM) "
     ]
    }
   ],
   "metadata": {}
  }
 ]
}