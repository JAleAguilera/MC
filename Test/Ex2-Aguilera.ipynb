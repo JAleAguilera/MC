{
 "metadata": {
  "name": ""
 },
 "nbformat": 3,
 "nbformat_minor": 0,
 "worksheets": [
  {
   "cells": [
    {
     "cell_type": "code",
     "collapsed": false,
     "input": [
      "%pylab inline\n",
      "import numpy as np\n",
      "import scipy as sp\n",
      "import matplotlib.pyplot as plt\n",
      "from scipy.io import wavfile\n",
      "from scipy.fftpack import ifft, fft, fftfreq\n",
      "from scipy import interpolate"
     ],
     "language": "python",
     "metadata": {},
     "outputs": [
      {
       "output_type": "stream",
       "stream": "stdout",
       "text": [
        "Populating the interactive namespace from numpy and matplotlib\n"
       ]
      }
     ],
     "prompt_number": 2
    },
    {
     "cell_type": "code",
     "collapsed": false,
     "input": [
      "archivo=np.genfromtxt(\"./ring.dft\" , dtype=np.complex)\n",
      "print archivo"
     ],
     "language": "python",
     "metadata": {},
     "outputs": [
      {
       "output_type": "stream",
       "stream": "stdout",
       "text": [
        "[-648062.00000000     +0.j         -248017.89136691+225018.34766216j\n",
        " -848679.46623416-320446.6553453j  ...,  237525.42917303-154187.87171057j\n",
        " -848679.46623416+320446.6553453j  -248017.89136691-225018.34766216j]\n"
       ]
      }
     ],
     "prompt_number": 3
    },
    {
     "cell_type": "code",
     "collapsed": false,
     "input": [
      "#Transformada Inversa\n",
      "TransFInver=np.fft.ifft(archivo)\n",
      "print TransFInver"
     ],
     "language": "python",
     "metadata": {},
     "outputs": [
      {
       "output_type": "stream",
       "stream": "stdout",
       "text": [
        "[ -2.00000000e+00 +0.00000000e+00j  -1.00000000e+00 -3.64892755e-13j\n",
        "  -1.00000000e+00 -1.03821092e-13j ...,  -1.00000000e+00 +1.25958091e-13j\n",
        "   2.21470603e-10 -4.29389977e-13j   2.61155962e-10 -5.78601371e-13j]\n"
       ]
      }
     ],
     "prompt_number": 4
    },
    {
     "cell_type": "code",
     "collapsed": false,
     "input": [
      "#Convertir a array y luego pasar a enteros con np.int16\n",
      "array=np.array(TransFInver)\n",
      "final=np.int16(array)"
     ],
     "language": "python",
     "metadata": {},
     "outputs": [
      {
       "output_type": "stream",
       "stream": "stderr",
       "text": [
        "-c:3: ComplexWarning: Casting complex values to real discards the imaginary part\n"
       ]
      }
     ],
     "prompt_number": 5
    },
    {
     "cell_type": "code",
     "collapsed": false,
     "input": [
      "#Convertir el archivo a extensi\u00f3n .wav\n",
      "finalArch=wavfile.write(\"final.wav\", 22050, final)"
     ],
     "language": "python",
     "metadata": {},
     "outputs": [],
     "prompt_number": 6
    },
    {
     "cell_type": "code",
     "collapsed": false,
     "input": [
      "#Nuevo Array para Interpolar\n",
      "newArra=array\n",
      "newArraNor=final\n",
      "newY=linspace(0,10,124395)\n",
      "newY2=linspace(0,10, (124395*2))\n",
      "\n",
      "\n",
      "interpol= interpolate.interp1d(newY, final, kind= 'nearest')\n",
      "\n",
      "dat= interpol(newY2)\n",
      "\n",
      "#plt.plot(newY, final , color='yellow')\n",
      "plt.plot(newY2, dat, color='m')\n",
      "plt.title(\"Con el doble\")"
     ],
     "language": "python",
     "metadata": {},
     "outputs": [
      {
       "metadata": {},
       "output_type": "pyout",
       "prompt_number": 27,
       "text": [
        "<matplotlib.text.Text at 0xafa5bf0c>"
       ]
      },
      {
       "metadata": {},
       "output_type": "display_data",
       "png": "[encoded data removed]",
       "text": [
        "<matplotlib.figure.Figure at 0xb31c7cac>"
       ]
      }
     ],
     "prompt_number": 27
    },
    {
     "cell_type": "code",
     "collapsed": false,
     "input": [
      "#Se realiza lo mismo que en el primer punto\n",
      "array2=np.array(dat)\n",
      "final2=np.int16(array2)"
     ],
     "language": "python",
     "metadata": {},
     "outputs": [],
     "prompt_number": 22
    },
    {
     "cell_type": "code",
     "collapsed": false,
     "input": [
      "#Para generar el otro archivo .wav\n",
      "finalArch2=wavfile.write(\"final2.wav\", 22050, final2)"
     ],
     "language": "python",
     "metadata": {},
     "outputs": [],
     "prompt_number": 23
    },
    {
     "cell_type": "code",
     "collapsed": false,
     "input": [
      "#Para bajar el volumen \n",
      "\n",
      "rampa=np.linspace(1,0,len(final2))\n",
      "rampaDoble=rampa*final2\n",
      "\n",
      "print rampa\n",
      "print rampaDoble\n",
      "\n",
      "plt.plot(newY2, rampaDoble, color='m')\n",
      "plt.title(\"Con la rampa de Volumen\")"
     ],
     "language": "python",
     "metadata": {},
     "outputs": [
      {
       "output_type": "stream",
       "stream": "stdout",
       "text": [
        "[  1.00000000e+00   9.99995981e-01   9.99991961e-01 ...,   8.03894063e-06\n",
        "   4.01947031e-06   0.00000000e+00]\n",
        "[-1.         -0.99999598  0.         ...,  0.          0.          0.        ]\n"
       ]
      },
      {
       "metadata": {},
       "output_type": "pyout",
       "prompt_number": 24,
       "text": [
        "<matplotlib.text.Text at 0xafe0aa4c>"
       ]
      },
      {
       "metadata": {},
       "output_type": "display_data",
       "png": "[encoded data removed]",
       "text": [
        "<matplotlib.figure.Figure at 0xaf0bf04c>"
       ]
      }
     ],
     "prompt_number": 24
    },
    {
     "cell_type": "code",
     "collapsed": false,
     "input": [
      "#Se genera el archivo de m\u00fasica\n",
      "arrayMenorVol=np.array(rampaDoble)\n",
      "finalMenorVol=np.int16(arrayMenorVol)\n",
      "\n",
      "#Para generar el otro archivo .wav\n",
      "finalArch3=wavfile.write(\"final3.wav\", 22050, finalMenorVol)"
     ],
     "language": "python",
     "metadata": {},
     "outputs": [],
     "prompt_number": 26
    },
    {
     "cell_type": "code",
     "collapsed": false,
     "input": [],
     "language": "python",
     "metadata": {},
     "outputs": []
    }
   ],
   "metadata": {}
  }
 ]
}